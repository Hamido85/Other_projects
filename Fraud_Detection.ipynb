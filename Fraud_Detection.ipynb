{
 "cells": [
  {
   "cell_type": "code",
   "execution_count": 1,
   "id": "6f4b69da",
   "metadata": {},
   "outputs": [],
   "source": [
    "import numpy as np\n",
    "import pandas as pd\n",
    "import matplotlib.pyplot as plt\n",
    "import seaborn as sns\n",
    "from scipy.stats import norm\n",
    "\n",
    "import warnings\n",
    "warnings.filterwarnings(\"ignore\")"
   ]
  },
  {
   "cell_type": "code",
   "execution_count": 2,
   "id": "3b76722f",
   "metadata": {},
   "outputs": [],
   "source": [
    "train=pd.read_csv('creditcard_train.csv')"
   ]
  },
  {
   "cell_type": "code",
   "execution_count": 4,
   "id": "439ecbb1",
   "metadata": {},
   "outputs": [
    {
     "data": {
      "text/html": [
       "<div>\n",
       "<style scoped>\n",
       "    .dataframe tbody tr th:only-of-type {\n",
       "        vertical-align: middle;\n",
       "    }\n",
       "\n",
       "    .dataframe tbody tr th {\n",
       "        vertical-align: top;\n",
       "    }\n",
       "\n",
       "    .dataframe thead th {\n",
       "        text-align: right;\n",
       "    }\n",
       "</style>\n",
       "<table border=\"1\" class=\"dataframe\">\n",
       "  <thead>\n",
       "    <tr style=\"text-align: right;\">\n",
       "      <th></th>\n",
       "      <th>Time</th>\n",
       "      <th>V1</th>\n",
       "      <th>V2</th>\n",
       "      <th>V3</th>\n",
       "      <th>V4</th>\n",
       "      <th>V5</th>\n",
       "      <th>V6</th>\n",
       "      <th>V7</th>\n",
       "      <th>V8</th>\n",
       "      <th>V9</th>\n",
       "      <th>...</th>\n",
       "      <th>V21</th>\n",
       "      <th>V22</th>\n",
       "      <th>V23</th>\n",
       "      <th>V24</th>\n",
       "      <th>V25</th>\n",
       "      <th>V26</th>\n",
       "      <th>V27</th>\n",
       "      <th>V28</th>\n",
       "      <th>Amount</th>\n",
       "      <th>Class</th>\n",
       "    </tr>\n",
       "  </thead>\n",
       "  <tbody>\n",
       "    <tr>\n",
       "      <th>0</th>\n",
       "      <td>76460.0</td>\n",
       "      <td>1.111098</td>\n",
       "      <td>0.179648</td>\n",
       "      <td>0.531749</td>\n",
       "      <td>1.482757</td>\n",
       "      <td>-0.310199</td>\n",
       "      <td>-0.364751</td>\n",
       "      <td>0.109840</td>\n",
       "      <td>-0.052502</td>\n",
       "      <td>0.238723</td>\n",
       "      <td>...</td>\n",
       "      <td>-0.068487</td>\n",
       "      <td>0.011689</td>\n",
       "      <td>-0.038433</td>\n",
       "      <td>0.414174</td>\n",
       "      <td>0.619740</td>\n",
       "      <td>-0.334748</td>\n",
       "      <td>0.038619</td>\n",
       "      <td>0.022382</td>\n",
       "      <td>24.24</td>\n",
       "      <td>0</td>\n",
       "    </tr>\n",
       "    <tr>\n",
       "      <th>1</th>\n",
       "      <td>141401.0</td>\n",
       "      <td>2.134944</td>\n",
       "      <td>0.154700</td>\n",
       "      <td>-2.054125</td>\n",
       "      <td>0.068207</td>\n",
       "      <td>0.430856</td>\n",
       "      <td>-1.839736</td>\n",
       "      <td>0.825559</td>\n",
       "      <td>-0.631772</td>\n",
       "      <td>0.183558</td>\n",
       "      <td>...</td>\n",
       "      <td>0.149252</td>\n",
       "      <td>0.591899</td>\n",
       "      <td>-0.040887</td>\n",
       "      <td>0.109212</td>\n",
       "      <td>0.442464</td>\n",
       "      <td>0.237539</td>\n",
       "      <td>-0.084814</td>\n",
       "      <td>-0.078692</td>\n",
       "      <td>2.07</td>\n",
       "      <td>0</td>\n",
       "    </tr>\n",
       "    <tr>\n",
       "      <th>2</th>\n",
       "      <td>74888.0</td>\n",
       "      <td>1.219661</td>\n",
       "      <td>1.121000</td>\n",
       "      <td>-2.157328</td>\n",
       "      <td>1.545964</td>\n",
       "      <td>1.751149</td>\n",
       "      <td>0.332003</td>\n",
       "      <td>0.182626</td>\n",
       "      <td>0.222810</td>\n",
       "      <td>-0.020855</td>\n",
       "      <td>...</td>\n",
       "      <td>-0.440100</td>\n",
       "      <td>-1.003212</td>\n",
       "      <td>-0.357910</td>\n",
       "      <td>-2.117555</td>\n",
       "      <td>0.863884</td>\n",
       "      <td>-0.219413</td>\n",
       "      <td>0.093550</td>\n",
       "      <td>0.095178</td>\n",
       "      <td>1.00</td>\n",
       "      <td>0</td>\n",
       "    </tr>\n",
       "    <tr>\n",
       "      <th>3</th>\n",
       "      <td>13642.0</td>\n",
       "      <td>1.220170</td>\n",
       "      <td>-0.036126</td>\n",
       "      <td>0.762629</td>\n",
       "      <td>0.121446</td>\n",
       "      <td>-0.600395</td>\n",
       "      <td>-0.365912</td>\n",
       "      <td>-0.490836</td>\n",
       "      <td>-0.019100</td>\n",
       "      <td>1.480623</td>\n",
       "      <td>...</td>\n",
       "      <td>-0.310389</td>\n",
       "      <td>-0.739730</td>\n",
       "      <td>0.106822</td>\n",
       "      <td>-0.021256</td>\n",
       "      <td>-0.015298</td>\n",
       "      <td>0.752247</td>\n",
       "      <td>-0.097937</td>\n",
       "      <td>-0.003457</td>\n",
       "      <td>18.11</td>\n",
       "      <td>0</td>\n",
       "    </tr>\n",
       "    <tr>\n",
       "      <th>4</th>\n",
       "      <td>31410.0</td>\n",
       "      <td>1.192668</td>\n",
       "      <td>0.388493</td>\n",
       "      <td>0.435644</td>\n",
       "      <td>0.709839</td>\n",
       "      <td>-0.255402</td>\n",
       "      <td>-0.766393</td>\n",
       "      <td>0.081094</td>\n",
       "      <td>-0.141418</td>\n",
       "      <td>-0.141551</td>\n",
       "      <td>...</td>\n",
       "      <td>-0.227874</td>\n",
       "      <td>-0.574991</td>\n",
       "      <td>0.188157</td>\n",
       "      <td>0.386786</td>\n",
       "      <td>0.133256</td>\n",
       "      <td>0.100744</td>\n",
       "      <td>0.000401</td>\n",
       "      <td>0.032658</td>\n",
       "      <td>0.89</td>\n",
       "      <td>0</td>\n",
       "    </tr>\n",
       "    <tr>\n",
       "      <th>...</th>\n",
       "      <td>...</td>\n",
       "      <td>...</td>\n",
       "      <td>...</td>\n",
       "      <td>...</td>\n",
       "      <td>...</td>\n",
       "      <td>...</td>\n",
       "      <td>...</td>\n",
       "      <td>...</td>\n",
       "      <td>...</td>\n",
       "      <td>...</td>\n",
       "      <td>...</td>\n",
       "      <td>...</td>\n",
       "      <td>...</td>\n",
       "      <td>...</td>\n",
       "      <td>...</td>\n",
       "      <td>...</td>\n",
       "      <td>...</td>\n",
       "      <td>...</td>\n",
       "      <td>...</td>\n",
       "      <td>...</td>\n",
       "      <td>...</td>\n",
       "    </tr>\n",
       "    <tr>\n",
       "      <th>199359</th>\n",
       "      <td>137196.0</td>\n",
       "      <td>-2.776509</td>\n",
       "      <td>-2.872034</td>\n",
       "      <td>0.601161</td>\n",
       "      <td>-2.303745</td>\n",
       "      <td>0.598829</td>\n",
       "      <td>-0.266395</td>\n",
       "      <td>-0.880467</td>\n",
       "      <td>0.337638</td>\n",
       "      <td>-1.699337</td>\n",
       "      <td>...</td>\n",
       "      <td>-0.554739</td>\n",
       "      <td>-1.233185</td>\n",
       "      <td>-0.996793</td>\n",
       "      <td>0.239593</td>\n",
       "      <td>0.567078</td>\n",
       "      <td>-0.350510</td>\n",
       "      <td>0.024945</td>\n",
       "      <td>-0.854590</td>\n",
       "      <td>140.09</td>\n",
       "      <td>0</td>\n",
       "    </tr>\n",
       "    <tr>\n",
       "      <th>199360</th>\n",
       "      <td>66070.0</td>\n",
       "      <td>-0.353643</td>\n",
       "      <td>0.783491</td>\n",
       "      <td>-0.031022</td>\n",
       "      <td>-1.213201</td>\n",
       "      <td>2.460076</td>\n",
       "      <td>3.365081</td>\n",
       "      <td>0.115234</td>\n",
       "      <td>0.937210</td>\n",
       "      <td>-0.521030</td>\n",
       "      <td>...</td>\n",
       "      <td>-0.282958</td>\n",
       "      <td>-0.903494</td>\n",
       "      <td>-0.061260</td>\n",
       "      <td>0.983508</td>\n",
       "      <td>-0.036452</td>\n",
       "      <td>0.086463</td>\n",
       "      <td>0.267998</td>\n",
       "      <td>0.114031</td>\n",
       "      <td>0.99</td>\n",
       "      <td>0</td>\n",
       "    </tr>\n",
       "    <tr>\n",
       "      <th>199361</th>\n",
       "      <td>151913.0</td>\n",
       "      <td>-0.024482</td>\n",
       "      <td>0.601015</td>\n",
       "      <td>-0.101442</td>\n",
       "      <td>-0.673937</td>\n",
       "      <td>0.278367</td>\n",
       "      <td>-0.709314</td>\n",
       "      <td>2.160349</td>\n",
       "      <td>-0.775577</td>\n",
       "      <td>-0.317002</td>\n",
       "      <td>...</td>\n",
       "      <td>-0.130162</td>\n",
       "      <td>-0.049071</td>\n",
       "      <td>0.068819</td>\n",
       "      <td>-0.039701</td>\n",
       "      <td>-0.285949</td>\n",
       "      <td>0.370466</td>\n",
       "      <td>-0.234527</td>\n",
       "      <td>-0.244742</td>\n",
       "      <td>170.88</td>\n",
       "      <td>0</td>\n",
       "    </tr>\n",
       "    <tr>\n",
       "      <th>199362</th>\n",
       "      <td>83248.0</td>\n",
       "      <td>-1.577217</td>\n",
       "      <td>1.269349</td>\n",
       "      <td>-0.685807</td>\n",
       "      <td>0.097089</td>\n",
       "      <td>0.660702</td>\n",
       "      <td>-0.945042</td>\n",
       "      <td>-0.103273</td>\n",
       "      <td>0.849309</td>\n",
       "      <td>-0.923695</td>\n",
       "      <td>...</td>\n",
       "      <td>0.023542</td>\n",
       "      <td>-0.185828</td>\n",
       "      <td>-0.365154</td>\n",
       "      <td>-0.584549</td>\n",
       "      <td>-0.222324</td>\n",
       "      <td>0.297363</td>\n",
       "      <td>0.067875</td>\n",
       "      <td>-0.066513</td>\n",
       "      <td>0.76</td>\n",
       "      <td>0</td>\n",
       "    </tr>\n",
       "    <tr>\n",
       "      <th>199363</th>\n",
       "      <td>171683.0</td>\n",
       "      <td>2.099310</td>\n",
       "      <td>-0.058459</td>\n",
       "      <td>-1.352465</td>\n",
       "      <td>0.255149</td>\n",
       "      <td>0.223617</td>\n",
       "      <td>-0.806402</td>\n",
       "      <td>0.206195</td>\n",
       "      <td>-0.315827</td>\n",
       "      <td>0.525628</td>\n",
       "      <td>...</td>\n",
       "      <td>-0.326201</td>\n",
       "      <td>-0.795799</td>\n",
       "      <td>0.244373</td>\n",
       "      <td>-0.643110</td>\n",
       "      <td>-0.194459</td>\n",
       "      <td>0.236745</td>\n",
       "      <td>-0.070109</td>\n",
       "      <td>-0.064979</td>\n",
       "      <td>7.99</td>\n",
       "      <td>0</td>\n",
       "    </tr>\n",
       "  </tbody>\n",
       "</table>\n",
       "<p>199364 rows × 31 columns</p>\n",
       "</div>"
      ],
      "text/plain": [
       "            Time        V1        V2        V3        V4        V5        V6  \\\n",
       "0        76460.0  1.111098  0.179648  0.531749  1.482757 -0.310199 -0.364751   \n",
       "1       141401.0  2.134944  0.154700 -2.054125  0.068207  0.430856 -1.839736   \n",
       "2        74888.0  1.219661  1.121000 -2.157328  1.545964  1.751149  0.332003   \n",
       "3        13642.0  1.220170 -0.036126  0.762629  0.121446 -0.600395 -0.365912   \n",
       "4        31410.0  1.192668  0.388493  0.435644  0.709839 -0.255402 -0.766393   \n",
       "...          ...       ...       ...       ...       ...       ...       ...   \n",
       "199359  137196.0 -2.776509 -2.872034  0.601161 -2.303745  0.598829 -0.266395   \n",
       "199360   66070.0 -0.353643  0.783491 -0.031022 -1.213201  2.460076  3.365081   \n",
       "199361  151913.0 -0.024482  0.601015 -0.101442 -0.673937  0.278367 -0.709314   \n",
       "199362   83248.0 -1.577217  1.269349 -0.685807  0.097089  0.660702 -0.945042   \n",
       "199363  171683.0  2.099310 -0.058459 -1.352465  0.255149  0.223617 -0.806402   \n",
       "\n",
       "              V7        V8        V9  ...       V21       V22       V23  \\\n",
       "0       0.109840 -0.052502  0.238723  ... -0.068487  0.011689 -0.038433   \n",
       "1       0.825559 -0.631772  0.183558  ...  0.149252  0.591899 -0.040887   \n",
       "2       0.182626  0.222810 -0.020855  ... -0.440100 -1.003212 -0.357910   \n",
       "3      -0.490836 -0.019100  1.480623  ... -0.310389 -0.739730  0.106822   \n",
       "4       0.081094 -0.141418 -0.141551  ... -0.227874 -0.574991  0.188157   \n",
       "...          ...       ...       ...  ...       ...       ...       ...   \n",
       "199359 -0.880467  0.337638 -1.699337  ... -0.554739 -1.233185 -0.996793   \n",
       "199360  0.115234  0.937210 -0.521030  ... -0.282958 -0.903494 -0.061260   \n",
       "199361  2.160349 -0.775577 -0.317002  ... -0.130162 -0.049071  0.068819   \n",
       "199362 -0.103273  0.849309 -0.923695  ...  0.023542 -0.185828 -0.365154   \n",
       "199363  0.206195 -0.315827  0.525628  ... -0.326201 -0.795799  0.244373   \n",
       "\n",
       "             V24       V25       V26       V27       V28  Amount  Class  \n",
       "0       0.414174  0.619740 -0.334748  0.038619  0.022382   24.24      0  \n",
       "1       0.109212  0.442464  0.237539 -0.084814 -0.078692    2.07      0  \n",
       "2      -2.117555  0.863884 -0.219413  0.093550  0.095178    1.00      0  \n",
       "3      -0.021256 -0.015298  0.752247 -0.097937 -0.003457   18.11      0  \n",
       "4       0.386786  0.133256  0.100744  0.000401  0.032658    0.89      0  \n",
       "...          ...       ...       ...       ...       ...     ...    ...  \n",
       "199359  0.239593  0.567078 -0.350510  0.024945 -0.854590  140.09      0  \n",
       "199360  0.983508 -0.036452  0.086463  0.267998  0.114031    0.99      0  \n",
       "199361 -0.039701 -0.285949  0.370466 -0.234527 -0.244742  170.88      0  \n",
       "199362 -0.584549 -0.222324  0.297363  0.067875 -0.066513    0.76      0  \n",
       "199363 -0.643110 -0.194459  0.236745 -0.070109 -0.064979    7.99      0  \n",
       "\n",
       "[199364 rows x 31 columns]"
      ]
     },
     "execution_count": 4,
     "metadata": {},
     "output_type": "execute_result"
    }
   ],
   "source": [
    "train"
   ]
  },
  {
   "cell_type": "code",
   "execution_count": 5,
   "id": "4599bd1b",
   "metadata": {},
   "outputs": [
    {
     "name": "stdout",
     "output_type": "stream",
     "text": [
      "<class 'pandas.core.frame.DataFrame'>\n",
      "RangeIndex: 199364 entries, 0 to 199363\n",
      "Data columns (total 31 columns):\n",
      " #   Column  Non-Null Count   Dtype  \n",
      "---  ------  --------------   -----  \n",
      " 0   Time    199364 non-null  float64\n",
      " 1   V1      199364 non-null  float64\n",
      " 2   V2      199364 non-null  float64\n",
      " 3   V3      199364 non-null  float64\n",
      " 4   V4      199364 non-null  float64\n",
      " 5   V5      199364 non-null  float64\n",
      " 6   V6      199364 non-null  float64\n",
      " 7   V7      199364 non-null  float64\n",
      " 8   V8      199364 non-null  float64\n",
      " 9   V9      199364 non-null  float64\n",
      " 10  V10     199364 non-null  float64\n",
      " 11  V11     199364 non-null  float64\n",
      " 12  V12     199364 non-null  float64\n",
      " 13  V13     199364 non-null  float64\n",
      " 14  V14     199364 non-null  float64\n",
      " 15  V15     199364 non-null  float64\n",
      " 16  V16     199364 non-null  float64\n",
      " 17  V17     199364 non-null  float64\n",
      " 18  V18     199364 non-null  float64\n",
      " 19  V19     199364 non-null  float64\n",
      " 20  V20     199364 non-null  float64\n",
      " 21  V21     199364 non-null  float64\n",
      " 22  V22     199364 non-null  float64\n",
      " 23  V23     199364 non-null  float64\n",
      " 24  V24     199364 non-null  float64\n",
      " 25  V25     199364 non-null  float64\n",
      " 26  V26     199364 non-null  float64\n",
      " 27  V27     199364 non-null  float64\n",
      " 28  V28     199364 non-null  float64\n",
      " 29  Amount  199364 non-null  float64\n",
      " 30  Class   199364 non-null  int64  \n",
      "dtypes: float64(30), int64(1)\n",
      "memory usage: 47.2 MB\n"
     ]
    }
   ],
   "source": [
    "train.info()"
   ]
  },
  {
   "cell_type": "code",
   "execution_count": 6,
   "id": "8776bea0",
   "metadata": {},
   "outputs": [
    {
     "data": {
      "text/plain": [
       "0"
      ]
     },
     "execution_count": 6,
     "metadata": {},
     "output_type": "execute_result"
    }
   ],
   "source": [
    "train.isnull().sum().sum()"
   ]
  },
  {
   "cell_type": "code",
   "execution_count": 7,
   "id": "d11c51a5",
   "metadata": {},
   "outputs": [
    {
     "data": {
      "text/plain": [
       "(199364, 31)"
      ]
     },
     "execution_count": 7,
     "metadata": {},
     "output_type": "execute_result"
    }
   ],
   "source": [
    "train.shape"
   ]
  },
  {
   "cell_type": "code",
   "execution_count": 8,
   "id": "6f80c7aa",
   "metadata": {},
   "outputs": [
    {
     "data": {
      "text/plain": [
       "<AxesSubplot:>"
      ]
     },
     "execution_count": 8,
     "metadata": {},
     "output_type": "execute_result"
    },
    {
     "data": {
      "image/png": "[encoded data removed]",
      "text/plain": [
       "<Figure size 1080x1080 with 2 Axes>"
      ]
     },
     "metadata": {
      "needs_background": "light"
     },
     "output_type": "display_data"
    }
   ],
   "source": [
    "plt.figure(figsize=(15, 15))\n",
    "\n",
    "sns.heatmap(train.corr(), linewidth=0.3, linecolor='black', cmap=\"YlGnBu\")"
   ]
  },
  {
   "cell_type": "code",
   "execution_count": 9,
   "id": "cac17bf6",
   "metadata": {},
   "outputs": [
    {
     "data": {
      "text/plain": [
       "<AxesSubplot:>"
      ]
     },
     "execution_count": 9,
     "metadata": {},
     "output_type": "execute_result"
    },
    {
     "data": {
      "image/png": "[encoded data removed]",
      "text/plain": [
       "<Figure size 864x288 with 1 Axes>"
      ]
     },
     "metadata": {
      "needs_background": "light"
     },
     "output_type": "display_data"
    }
   ],
   "source": [
    "train.corr()['Class'].sort_values().drop('Class').plot(kind='bar',figsize=(12,4))"
   ]
  },
  {
   "cell_type": "markdown",
   "id": "08530283",
   "metadata": {},
   "source": [
    "## Checking the class value counts"
   ]
  },
  {
   "cell_type": "code",
   "execution_count": 10,
   "id": "c4ce8f96",
   "metadata": {},
   "outputs": [
    {
     "name": "stdout",
     "output_type": "stream",
     "text": [
      "0    199021\n",
      "1       343\n",
      "Name: Class, dtype: int64\n"
     ]
    },
    {
     "data": {
      "image/png": "[encoded data removed]",
      "text/plain": [
       "<Figure size 432x288 with 1 Axes>"
      ]
     },
     "metadata": {
      "needs_background": "light"
     },
     "output_type": "display_data"
    }
   ],
   "source": [
    "sns.countplot(x='Class',data=train,order = train['Class'].value_counts().index)\n",
    "print(train['Class'].value_counts())"
   ]
  },
  {
   "cell_type": "code",
   "execution_count": 11,
   "id": "87849f94",
   "metadata": {},
   "outputs": [
    {
     "data": {
      "text/plain": [
       "0    99.827953\n",
       "1     0.172047\n",
       "Name: Class, dtype: float64"
      ]
     },
     "execution_count": 11,
     "metadata": {},
     "output_type": "execute_result"
    }
   ],
   "source": [
    "100*train['Class'].value_counts()/len(train)"
   ]
  },
  {
   "cell_type": "markdown",
   "id": "dc3972e4",
   "metadata": {},
   "source": [
    "## Checking if there are categorical features"
   ]
  },
  {
   "cell_type": "code",
   "execution_count": 12,
   "id": "3138ad13",
   "metadata": {},
   "outputs": [
    {
     "name": "stdout",
     "output_type": "stream",
     "text": [
      "Number of unique values is   Time    107202\n",
      "dtype: int64\n",
      "Number of unique values is   V1    194184\n",
      "dtype: int64\n",
      "Number of unique values is   V2    194184\n",
      "dtype: int64\n",
      "Number of unique values is   V3    194184\n",
      "dtype: int64\n",
      "Number of unique values is   V4    194184\n",
      "dtype: int64\n",
      "Number of unique values is   V5    194184\n",
      "dtype: int64\n",
      "Number of unique values is   V6    194184\n",
      "dtype: int64\n",
      "Number of unique values is   V7    194184\n",
      "dtype: int64\n",
      "Number of unique values is   V8    194184\n",
      "dtype: int64\n",
      "Number of unique values is   V9    194184\n",
      "dtype: int64\n",
      "Number of unique values is   V10    194184\n",
      "dtype: int64\n",
      "Number of unique values is   V11    194184\n",
      "dtype: int64\n",
      "Number of unique values is   V12    194184\n",
      "dtype: int64\n",
      "Number of unique values is   V13    194184\n",
      "dtype: int64\n",
      "Number of unique values is   V14    194184\n",
      "dtype: int64\n",
      "Number of unique values is   V15    194184\n",
      "dtype: int64\n",
      "Number of unique values is   V16    194184\n",
      "dtype: int64\n",
      "Number of unique values is   V17    194184\n",
      "dtype: int64\n",
      "Number of unique values is   V18    194184\n",
      "dtype: int64\n",
      "Number of unique values is   V19    194184\n",
      "dtype: int64\n",
      "Number of unique values is   V20    194184\n",
      "dtype: int64\n",
      "Number of unique values is   V21    194184\n",
      "dtype: int64\n",
      "Number of unique values is   V22    194184\n",
      "dtype: int64\n",
      "Number of unique values is   V23    194184\n",
      "dtype: int64\n",
      "Number of unique values is   V24    194184\n",
      "dtype: int64\n",
      "Number of unique values is   V25    194184\n",
      "dtype: int64\n",
      "Number of unique values is   V26    194184\n",
      "dtype: int64\n",
      "Number of unique values is   V27    194184\n",
      "dtype: int64\n",
      "Number of unique values is   V28    194184\n",
      "dtype: int64\n",
      "Number of unique values is   Amount    27481\n",
      "dtype: int64\n",
      "Number of unique values is   Class    2\n",
      "dtype: int64\n"
     ]
    }
   ],
   "source": [
    "for i in train.columns:\n",
    "    print('Number of unique values is  ',train[[i]].nunique())"
   ]
  },
  {
   "cell_type": "code",
   "execution_count": 13,
   "id": "35101722",
   "metadata": {},
   "outputs": [
    {
     "data": {
      "text/plain": [
       "<AxesSubplot:xlabel='Class', ylabel='Amount'>"
      ]
     },
     "execution_count": 13,
     "metadata": {},
     "output_type": "execute_result"
    },
    {
     "data": {
      "image/png": "[encoded data removed]",
      "text/plain": [
       "<Figure size 432x288 with 1 Axes>"
      ]
     },
     "metadata": {
      "needs_background": "light"
     },
     "output_type": "display_data"
    }
   ],
   "source": [
    "sns.scatterplot(x=train['Class'], y=train['Amount'])"
   ]
  },
  {
   "cell_type": "code",
   "execution_count": 14,
   "id": "3df205a0",
   "metadata": {},
   "outputs": [
    {
     "data": {
      "image/png": "[encoded data removed]",
      "text/plain": [
       "<Figure size 1296x288 with 2 Axes>"
      ]
     },
     "metadata": {
      "needs_background": "light"
     },
     "output_type": "display_data"
    }
   ],
   "source": [
    "fig, ax = plt.subplots(1, 2, figsize=(18,4))\n",
    "amount_val = train['Amount'].values\n",
    "time_val = train['Time'].values\n",
    "\n",
    "sns.distplot(amount_val, ax=ax[0], color='r')\n",
    "ax[0].set_title('Distribution of Transaction Amount', fontsize=14)\n",
    "ax[0].set_xlim([min(amount_val), max(amount_val)])\n",
    "\n",
    "\n",
    "\n",
    "sns.histplot(time_val, ax=ax[1], color='b',kde=True)\n",
    "ax[1].set_title('Distribution of Transaction Time', fontsize=14)\n",
    "ax[1].set_xlim([min(time_val), max(time_val)])\n",
    "\n",
    "plt.show()"
   ]
  },
  {
   "cell_type": "markdown",
   "id": "59f06ace",
   "metadata": {},
   "source": [
    "## Time and amount are not scaled as the other features, we need to scale them.\n",
    "we will use rubost scaler which is rubost to the outliers"
   ]
  },
  {
   "cell_type": "code",
   "execution_count": 15,
   "id": "86654a05",
   "metadata": {},
   "outputs": [],
   "source": [
    "from sklearn.preprocessing import StandardScaler, RobustScaler"
   ]
  },
  {
   "cell_type": "code",
   "execution_count": 16,
   "id": "e2a95bd1",
   "metadata": {},
   "outputs": [],
   "source": [
    "Scaler = RobustScaler()"
   ]
  },
  {
   "cell_type": "code",
   "execution_count": 17,
   "id": "c687f788",
   "metadata": {},
   "outputs": [],
   "source": [
    "train['scaled_amount'] = Scaler.fit_transform(train['Amount'].values.reshape(-1,1))"
   ]
  },
  {
   "cell_type": "code",
   "execution_count": 18,
   "id": "fcb16ffd",
   "metadata": {},
   "outputs": [],
   "source": [
    "train['scaled_time'] = Scaler.fit_transform(train['Time'].values.reshape(-1,1))"
   ]
  },
  {
   "cell_type": "code",
   "execution_count": 19,
   "id": "a1d5b4ab",
   "metadata": {},
   "outputs": [],
   "source": [
    "# we will drop time and amount\n",
    "\n",
    "train.drop(['Time','Amount'], axis=1, inplace=True)"
   ]
  },
  {
   "cell_type": "code",
   "execution_count": 20,
   "id": "067a1bfc",
   "metadata": {},
   "outputs": [
    {
     "data": {
      "text/html": [
       "<div>\n",
       "<style scoped>\n",
       "    .dataframe tbody tr th:only-of-type {\n",
       "        vertical-align: middle;\n",
       "    }\n",
       "\n",
       "    .dataframe tbody tr th {\n",
       "        vertical-align: top;\n",
       "    }\n",
       "\n",
       "    .dataframe thead th {\n",
       "        text-align: right;\n",
       "    }\n",
       "</style>\n",
       "<table border=\"1\" class=\"dataframe\">\n",
       "  <thead>\n",
       "    <tr style=\"text-align: right;\">\n",
       "      <th></th>\n",
       "      <th>V1</th>\n",
       "      <th>V2</th>\n",
       "      <th>V3</th>\n",
       "      <th>V4</th>\n",
       "      <th>V5</th>\n",
       "      <th>V6</th>\n",
       "      <th>V7</th>\n",
       "      <th>V8</th>\n",
       "      <th>V9</th>\n",
       "      <th>V10</th>\n",
       "      <th>...</th>\n",
       "      <th>V22</th>\n",
       "      <th>V23</th>\n",
       "      <th>V24</th>\n",
       "      <th>V25</th>\n",
       "      <th>V26</th>\n",
       "      <th>V27</th>\n",
       "      <th>V28</th>\n",
       "      <th>Class</th>\n",
       "      <th>scaled_amount</th>\n",
       "      <th>scaled_time</th>\n",
       "    </tr>\n",
       "  </thead>\n",
       "  <tbody>\n",
       "    <tr>\n",
       "      <th>0</th>\n",
       "      <td>1.111098</td>\n",
       "      <td>0.179648</td>\n",
       "      <td>0.531749</td>\n",
       "      <td>1.482757</td>\n",
       "      <td>-0.310199</td>\n",
       "      <td>-0.364751</td>\n",
       "      <td>0.109840</td>\n",
       "      <td>-0.052502</td>\n",
       "      <td>0.238723</td>\n",
       "      <td>-0.137877</td>\n",
       "      <td>...</td>\n",
       "      <td>0.011689</td>\n",
       "      <td>-0.038433</td>\n",
       "      <td>0.414174</td>\n",
       "      <td>0.619740</td>\n",
       "      <td>-0.334748</td>\n",
       "      <td>0.038619</td>\n",
       "      <td>0.022382</td>\n",
       "      <td>0</td>\n",
       "      <td>0.031406</td>\n",
       "      <td>-0.099144</td>\n",
       "    </tr>\n",
       "    <tr>\n",
       "      <th>1</th>\n",
       "      <td>2.134944</td>\n",
       "      <td>0.154700</td>\n",
       "      <td>-2.054125</td>\n",
       "      <td>0.068207</td>\n",
       "      <td>0.430856</td>\n",
       "      <td>-1.839736</td>\n",
       "      <td>0.825559</td>\n",
       "      <td>-0.631772</td>\n",
       "      <td>0.183558</td>\n",
       "      <td>0.019075</td>\n",
       "      <td>...</td>\n",
       "      <td>0.591899</td>\n",
       "      <td>-0.040887</td>\n",
       "      <td>0.109212</td>\n",
       "      <td>0.442464</td>\n",
       "      <td>0.237539</td>\n",
       "      <td>-0.084814</td>\n",
       "      <td>-0.078692</td>\n",
       "      <td>0</td>\n",
       "      <td>-0.278047</td>\n",
       "      <td>0.663941</td>\n",
       "    </tr>\n",
       "    <tr>\n",
       "      <th>2</th>\n",
       "      <td>1.219661</td>\n",
       "      <td>1.121000</td>\n",
       "      <td>-2.157328</td>\n",
       "      <td>1.545964</td>\n",
       "      <td>1.751149</td>\n",
       "      <td>0.332003</td>\n",
       "      <td>0.182626</td>\n",
       "      <td>0.222810</td>\n",
       "      <td>-0.020855</td>\n",
       "      <td>-1.954201</td>\n",
       "      <td>...</td>\n",
       "      <td>-1.003212</td>\n",
       "      <td>-0.357910</td>\n",
       "      <td>-2.117555</td>\n",
       "      <td>0.863884</td>\n",
       "      <td>-0.219413</td>\n",
       "      <td>0.093550</td>\n",
       "      <td>0.095178</td>\n",
       "      <td>0</td>\n",
       "      <td>-0.292983</td>\n",
       "      <td>-0.117616</td>\n",
       "    </tr>\n",
       "    <tr>\n",
       "      <th>3</th>\n",
       "      <td>1.220170</td>\n",
       "      <td>-0.036126</td>\n",
       "      <td>0.762629</td>\n",
       "      <td>0.121446</td>\n",
       "      <td>-0.600395</td>\n",
       "      <td>-0.365912</td>\n",
       "      <td>-0.490836</td>\n",
       "      <td>-0.019100</td>\n",
       "      <td>1.480623</td>\n",
       "      <td>-0.364567</td>\n",
       "      <td>...</td>\n",
       "      <td>-0.739730</td>\n",
       "      <td>0.106822</td>\n",
       "      <td>-0.021256</td>\n",
       "      <td>-0.015298</td>\n",
       "      <td>0.752247</td>\n",
       "      <td>-0.097937</td>\n",
       "      <td>-0.003457</td>\n",
       "      <td>0</td>\n",
       "      <td>-0.054158</td>\n",
       "      <td>-0.837283</td>\n",
       "    </tr>\n",
       "    <tr>\n",
       "      <th>4</th>\n",
       "      <td>1.192668</td>\n",
       "      <td>0.388493</td>\n",
       "      <td>0.435644</td>\n",
       "      <td>0.709839</td>\n",
       "      <td>-0.255402</td>\n",
       "      <td>-0.766393</td>\n",
       "      <td>0.081094</td>\n",
       "      <td>-0.141418</td>\n",
       "      <td>-0.141551</td>\n",
       "      <td>-0.355581</td>\n",
       "      <td>...</td>\n",
       "      <td>-0.574991</td>\n",
       "      <td>0.188157</td>\n",
       "      <td>0.386786</td>\n",
       "      <td>0.133256</td>\n",
       "      <td>0.100744</td>\n",
       "      <td>0.000401</td>\n",
       "      <td>0.032658</td>\n",
       "      <td>0</td>\n",
       "      <td>-0.294518</td>\n",
       "      <td>-0.628501</td>\n",
       "    </tr>\n",
       "  </tbody>\n",
       "</table>\n",
       "<p>5 rows × 31 columns</p>\n",
       "</div>"
      ],
      "text/plain": [
       "         V1        V2        V3        V4        V5        V6        V7  \\\n",
       "0  1.111098  0.179648  0.531749  1.482757 -0.310199 -0.364751  0.109840   \n",
       "1  2.134944  0.154700 -2.054125  0.068207  0.430856 -1.839736  0.825559   \n",
       "2  1.219661  1.121000 -2.157328  1.545964  1.751149  0.332003  0.182626   \n",
       "3  1.220170 -0.036126  0.762629  0.121446 -0.600395 -0.365912 -0.490836   \n",
       "4  1.192668  0.388493  0.435644  0.709839 -0.255402 -0.766393  0.081094   \n",
       "\n",
       "         V8        V9       V10  ...       V22       V23       V24       V25  \\\n",
       "0 -0.052502  0.238723 -0.137877  ...  0.011689 -0.038433  0.414174  0.619740   \n",
       "1 -0.631772  0.183558  0.019075  ...  0.591899 -0.040887  0.109212  0.442464   \n",
       "2  0.222810 -0.020855 -1.954201  ... -1.003212 -0.357910 -2.117555  0.863884   \n",
       "3 -0.019100  1.480623 -0.364567  ... -0.739730  0.106822 -0.021256 -0.015298   \n",
       "4 -0.141418 -0.141551 -0.355581  ... -0.574991  0.188157  0.386786  0.133256   \n",
       "\n",
       "        V26       V27       V28  Class  scaled_amount  scaled_time  \n",
       "0 -0.334748  0.038619  0.022382      0       0.031406    -0.099144  \n",
       "1  0.237539 -0.084814 -0.078692      0      -0.278047     0.663941  \n",
       "2 -0.219413  0.093550  0.095178      0      -0.292983    -0.117616  \n",
       "3  0.752247 -0.097937 -0.003457      0      -0.054158    -0.837283  \n",
       "4  0.100744  0.000401  0.032658      0      -0.294518    -0.628501  \n",
       "\n",
       "[5 rows x 31 columns]"
      ]
     },
     "execution_count": 20,
     "metadata": {},
     "output_type": "execute_result"
    }
   ],
   "source": [
    "train.head()"
   ]
  },
  {
   "cell_type": "markdown",
   "id": "aec6d3dd",
   "metadata": {},
   "source": [
    "# Undersampling technique"
   ]
  },
  {
   "cell_type": "code",
   "execution_count": 21,
   "id": "0f97ecd2",
   "metadata": {},
   "outputs": [],
   "source": [
    "from sklearn.model_selection import train_test_split\n",
    "from sklearn.model_selection import StratifiedShuffleSplit"
   ]
  },
  {
   "cell_type": "code",
   "execution_count": 22,
   "id": "49ab168d",
   "metadata": {},
   "outputs": [
    {
     "data": {
      "text/plain": [
       "0    99.827953\n",
       "1     0.172047\n",
       "Name: Class, dtype: float64"
      ]
     },
     "execution_count": 22,
     "metadata": {},
     "output_type": "execute_result"
    }
   ],
   "source": [
    "100*train['Class'].value_counts()/len(train)"
   ]
  },
  {
   "cell_type": "code",
   "execution_count": 23,
   "id": "d38e231c",
   "metadata": {},
   "outputs": [
    {
     "name": "stdout",
     "output_type": "stream",
     "text": [
      "Not Fraud  99.83 % of the dataset\n",
      "Fraud  0.17 % of the dataset\n"
     ]
    }
   ],
   "source": [
    "print('Not Fraud ', round(100*train['Class'].value_counts()[0]/len(train),2),'% of the dataset')\n",
    "print('Fraud ', round(100*train['Class'].value_counts()[1]/len(train),2),'% of the dataset')"
   ]
  },
  {
   "cell_type": "code",
   "execution_count": 24,
   "id": "67b59862",
   "metadata": {},
   "outputs": [],
   "source": [
    "X = train.drop('Class', axis=1)\n",
    "y = train['Class']"
   ]
  },
  {
   "cell_type": "markdown",
   "id": "d572549d",
   "metadata": {},
   "source": [
    "## 1- Random UnderSampling technique"
   ]
  },
  {
   "cell_type": "markdown",
   "id": "828a8727",
   "metadata": {},
   "source": [
    "#### Splitting the Data (Original DataFrame)\n",
    "Before proceeding with the `Random UnderSampling technique` we have to separate the orginal dataframe. Why? for testing purposes, remember although we are splitting the data when implementing Random UnderSampling or OverSampling techniques, we want to `test our models on the original testing set` not on the testing set created by either of these techniques. The main goal is to fit the model either with the dataframes that were undersample and oversample (in order for our models to detect the patterns), and test it on the original testing set."
   ]
  },
  {
   "cell_type": "code",
   "execution_count": 25,
   "id": "bb9a1e1c",
   "metadata": {},
   "outputs": [],
   "source": [
    "from sklearn.model_selection import StratifiedKFold"
   ]
  },
  {
   "cell_type": "code",
   "execution_count": 26,
   "id": "8faed796",
   "metadata": {},
   "outputs": [],
   "source": [
    "# creating stratify sampling based on class\n",
    "stratifyCV = StratifiedKFold(n_splits=5, random_state=None, shuffle=False)"
   ]
  },
  {
   "cell_type": "code",
   "execution_count": 27,
   "id": "c504576d",
   "metadata": {},
   "outputs": [
    {
     "name": "stdout",
     "output_type": "stream",
     "text": [
      "Train: [ 39868  39869  39870 ... 199361 199362 199363] Test: [    0     1     2 ... 41310 42669 43022]\n",
      "Train: [     0      1      2 ... 199361 199362 199363] Test: [39868 39869 39870 ... 84120 84182 84440]\n",
      "Train: [     0      1      2 ... 199361 199362 199363] Test: [ 79738  79739  79740 ... 124868 125154 125222]\n",
      "Train: [     0      1      2 ... 199361 199362 199363] Test: [119605 119606 119607 ... 159490 159491 159492]\n",
      "Train: [     0      1      2 ... 159490 159491 159492] Test: [159047 159493 159494 ... 199361 199362 199363]\n"
     ]
    }
   ],
   "source": [
    "for train_index, test_index in stratifyCV.split(X, y):\n",
    "    print(\"Train:\", train_index, \"Test:\", test_index)\n",
    "    original_Xtrain, original_Xtest = X.iloc[train_index], X.iloc[test_index]\n",
    "    original_ytrain, original_ytest = y.iloc[train_index], y.iloc[test_index]"
   ]
  },
  {
   "cell_type": "markdown",
   "id": "86536b99",
   "metadata": {},
   "source": [
    "## Check the Distribution of the labels"
   ]
  },
  {
   "cell_type": "code",
   "execution_count": 28,
   "id": "3c294871",
   "metadata": {},
   "outputs": [
    {
     "data": {
      "text/plain": [
       "0    99.827578\n",
       "1     0.172422\n",
       "Name: Class, dtype: float64"
      ]
     },
     "execution_count": 28,
     "metadata": {},
     "output_type": "execute_result"
    }
   ],
   "source": [
    "# for the train dataset\n",
    "100*original_ytrain.value_counts()/len(original_ytrain)"
   ]
  },
  {
   "cell_type": "code",
   "execution_count": 29,
   "id": "f1a95995",
   "metadata": {},
   "outputs": [
    {
     "data": {
      "text/plain": [
       "0    99.829454\n",
       "1     0.170546\n",
       "Name: Class, dtype: float64"
      ]
     },
     "execution_count": 29,
     "metadata": {},
     "output_type": "execute_result"
    }
   ],
   "source": [
    "# for the test dataset\n",
    "100*original_ytest.value_counts()/len(original_ytest)"
   ]
  },
  {
   "cell_type": "markdown",
   "id": "d2571ce7",
   "metadata": {},
   "source": [
    "### we will implement \"Random Under Sampling\" which basically consists of removing data in order to have a more balanced dataset and thus avoiding our models to overfitting.\n",
    "\n",
    "\n",
    "### Steps:\n",
    "- The first thing we have to do is determine how imbalanced is our class (use \"value_counts()\" on the class column to determine the amount for each label).\n",
    "\n",
    "- Once we determine how many instances are considered fraud transactions (Fraud = \"1\") , we should bring the non-fraud transactions to the same amount as fraud transactions (assuming we want a 50/50 ratio), this will be equivalent to 492 cases of fraud and `343` cases of non-fraud transactions.\n",
    "\n",
    "- After implementing this technique, we have a sub-sample of our dataframe with a 50/50 ratio with regards to our classes. Then the next step we will implement is to shuffle the data to see if our models can maintain a certain accuracy everytime we run this script.\n",
    "\n",
    "\n",
    "__Note: The main issue with \"Random Under-Sampling\" is that we run the risk that our classification models will not perform as accurate as we would like to since there is a great deal of information loss (bringing 343 non-fraud transaction from 199,021 non-fraud transaction)__"
   ]
  },
  {
   "cell_type": "code",
   "execution_count": 30,
   "id": "4808d32c",
   "metadata": {},
   "outputs": [],
   "source": [
    "#foltering the fraud transaction\n",
    "fraud=train.loc[train['Class']==1]"
   ]
  },
  {
   "cell_type": "code",
   "execution_count": 31,
   "id": "4342dd50",
   "metadata": {},
   "outputs": [
    {
     "data": {
      "text/plain": [
       "343"
      ]
     },
     "execution_count": 31,
     "metadata": {},
     "output_type": "execute_result"
    }
   ],
   "source": [
    "len(fraud)"
   ]
  },
  {
   "cell_type": "code",
   "execution_count": 32,
   "id": "f7a663c2",
   "metadata": {},
   "outputs": [],
   "source": [
    "#train.loc[train['Class']==0]"
   ]
  },
  {
   "cell_type": "code",
   "execution_count": 33,
   "id": "04bf1538",
   "metadata": {},
   "outputs": [],
   "source": [
    "#selecting the first 343 rows as not fraud\n",
    "not_fraud=train.loc[train['Class']==0][:343]"
   ]
  },
  {
   "cell_type": "code",
   "execution_count": 34,
   "id": "fb89ade9",
   "metadata": {},
   "outputs": [],
   "source": [
    "df_concat=pd.concat([fraud,not_fraud])"
   ]
  },
  {
   "cell_type": "code",
   "execution_count": 35,
   "id": "8a4428b4",
   "metadata": {},
   "outputs": [],
   "source": [
    "# Shuffle dataframe rows\n",
    "df=df_concat.sample(frac=1)"
   ]
  },
  {
   "cell_type": "code",
   "execution_count": 36,
   "id": "651517b7",
   "metadata": {},
   "outputs": [
    {
     "data": {
      "text/html": [
       "<div>\n",
       "<style scoped>\n",
       "    .dataframe tbody tr th:only-of-type {\n",
       "        vertical-align: middle;\n",
       "    }\n",
       "\n",
       "    .dataframe tbody tr th {\n",
       "        vertical-align: top;\n",
       "    }\n",
       "\n",
       "    .dataframe thead th {\n",
       "        text-align: right;\n",
       "    }\n",
       "</style>\n",
       "<table border=\"1\" class=\"dataframe\">\n",
       "  <thead>\n",
       "    <tr style=\"text-align: right;\">\n",
       "      <th></th>\n",
       "      <th>V1</th>\n",
       "      <th>V2</th>\n",
       "      <th>V3</th>\n",
       "      <th>V4</th>\n",
       "      <th>V5</th>\n",
       "      <th>V6</th>\n",
       "      <th>V7</th>\n",
       "      <th>V8</th>\n",
       "      <th>V9</th>\n",
       "      <th>V10</th>\n",
       "      <th>...</th>\n",
       "      <th>V22</th>\n",
       "      <th>V23</th>\n",
       "      <th>V24</th>\n",
       "      <th>V25</th>\n",
       "      <th>V26</th>\n",
       "      <th>V27</th>\n",
       "      <th>V28</th>\n",
       "      <th>Class</th>\n",
       "      <th>scaled_amount</th>\n",
       "      <th>scaled_time</th>\n",
       "    </tr>\n",
       "  </thead>\n",
       "  <tbody>\n",
       "    <tr>\n",
       "      <th>47</th>\n",
       "      <td>-0.321084</td>\n",
       "      <td>0.836512</td>\n",
       "      <td>-0.742182</td>\n",
       "      <td>-0.701522</td>\n",
       "      <td>0.998196</td>\n",
       "      <td>-0.902667</td>\n",
       "      <td>0.639055</td>\n",
       "      <td>0.153341</td>\n",
       "      <td>-0.333154</td>\n",
       "      <td>-0.842458</td>\n",
       "      <td>...</td>\n",
       "      <td>1.278432</td>\n",
       "      <td>-0.090199</td>\n",
       "      <td>0.534110</td>\n",
       "      <td>-0.780533</td>\n",
       "      <td>-0.351613</td>\n",
       "      <td>0.146115</td>\n",
       "      <td>0.166626</td>\n",
       "      <td>0</td>\n",
       "      <td>-0.292983</td>\n",
       "      <td>0.525943</td>\n",
       "    </tr>\n",
       "    <tr>\n",
       "      <th>55</th>\n",
       "      <td>2.127554</td>\n",
       "      <td>-1.551985</td>\n",
       "      <td>-0.355897</td>\n",
       "      <td>-1.425165</td>\n",
       "      <td>-1.676873</td>\n",
       "      <td>-0.705231</td>\n",
       "      <td>-1.212498</td>\n",
       "      <td>-0.208941</td>\n",
       "      <td>-1.135844</td>\n",
       "      <td>1.449743</td>\n",
       "      <td>...</td>\n",
       "      <td>-0.607668</td>\n",
       "      <td>0.402901</td>\n",
       "      <td>-0.051864</td>\n",
       "      <td>-0.614145</td>\n",
       "      <td>-0.491166</td>\n",
       "      <td>0.035739</td>\n",
       "      <td>-0.021507</td>\n",
       "      <td>0</td>\n",
       "      <td>0.809715</td>\n",
       "      <td>0.593497</td>\n",
       "    </tr>\n",
       "    <tr>\n",
       "      <th>219</th>\n",
       "      <td>0.251492</td>\n",
       "      <td>0.939998</td>\n",
       "      <td>-0.623150</td>\n",
       "      <td>-0.362205</td>\n",
       "      <td>1.361844</td>\n",
       "      <td>-0.907140</td>\n",
       "      <td>1.143896</td>\n",
       "      <td>-0.444603</td>\n",
       "      <td>0.129260</td>\n",
       "      <td>-0.569688</td>\n",
       "      <td>...</td>\n",
       "      <td>0.962588</td>\n",
       "      <td>-0.321665</td>\n",
       "      <td>-0.825114</td>\n",
       "      <td>-0.243216</td>\n",
       "      <td>-0.119030</td>\n",
       "      <td>0.228596</td>\n",
       "      <td>-0.037284</td>\n",
       "      <td>0</td>\n",
       "      <td>-0.287678</td>\n",
       "      <td>0.587175</td>\n",
       "    </tr>\n",
       "    <tr>\n",
       "      <th>185323</th>\n",
       "      <td>-13.512074</td>\n",
       "      <td>8.215177</td>\n",
       "      <td>-16.582606</td>\n",
       "      <td>6.207369</td>\n",
       "      <td>-11.318472</td>\n",
       "      <td>-2.997207</td>\n",
       "      <td>-17.640470</td>\n",
       "      <td>0.040349</td>\n",
       "      <td>-5.620232</td>\n",
       "      <td>-15.123752</td>\n",
       "      <td>...</td>\n",
       "      <td>1.514028</td>\n",
       "      <td>-0.141879</td>\n",
       "      <td>0.789186</td>\n",
       "      <td>-0.031343</td>\n",
       "      <td>-0.255057</td>\n",
       "      <td>-1.865831</td>\n",
       "      <td>-0.442204</td>\n",
       "      <td>1</td>\n",
       "      <td>0.327878</td>\n",
       "      <td>0.108615</td>\n",
       "    </tr>\n",
       "    <tr>\n",
       "      <th>76</th>\n",
       "      <td>1.375792</td>\n",
       "      <td>-0.414610</td>\n",
       "      <td>0.579765</td>\n",
       "      <td>-0.659644</td>\n",
       "      <td>-1.046697</td>\n",
       "      <td>-1.002681</td>\n",
       "      <td>-0.463264</td>\n",
       "      <td>-0.252209</td>\n",
       "      <td>-0.915278</td>\n",
       "      <td>0.569307</td>\n",
       "      <td>...</td>\n",
       "      <td>-0.324959</td>\n",
       "      <td>0.107835</td>\n",
       "      <td>0.394751</td>\n",
       "      <td>0.260781</td>\n",
       "      <td>-0.484899</td>\n",
       "      <td>0.014071</td>\n",
       "      <td>0.027633</td>\n",
       "      <td>0</td>\n",
       "      <td>0.042014</td>\n",
       "      <td>-0.491785</td>\n",
       "    </tr>\n",
       "  </tbody>\n",
       "</table>\n",
       "<p>5 rows × 31 columns</p>\n",
       "</div>"
      ],
      "text/plain": [
       "               V1        V2         V3        V4         V5        V6  \\\n",
       "47      -0.321084  0.836512  -0.742182 -0.701522   0.998196 -0.902667   \n",
       "55       2.127554 -1.551985  -0.355897 -1.425165  -1.676873 -0.705231   \n",
       "219      0.251492  0.939998  -0.623150 -0.362205   1.361844 -0.907140   \n",
       "185323 -13.512074  8.215177 -16.582606  6.207369 -11.318472 -2.997207   \n",
       "76       1.375792 -0.414610   0.579765 -0.659644  -1.046697 -1.002681   \n",
       "\n",
       "               V7        V8        V9        V10  ...       V22       V23  \\\n",
       "47       0.639055  0.153341 -0.333154  -0.842458  ...  1.278432 -0.090199   \n",
       "55      -1.212498 -0.208941 -1.135844   1.449743  ... -0.607668  0.402901   \n",
       "219      1.143896 -0.444603  0.129260  -0.569688  ...  0.962588 -0.321665   \n",
       "185323 -17.640470  0.040349 -5.620232 -15.123752  ...  1.514028 -0.141879   \n",
       "76      -0.463264 -0.252209 -0.915278   0.569307  ... -0.324959  0.107835   \n",
       "\n",
       "             V24       V25       V26       V27       V28  Class  \\\n",
       "47      0.534110 -0.780533 -0.351613  0.146115  0.166626      0   \n",
       "55     -0.051864 -0.614145 -0.491166  0.035739 -0.021507      0   \n",
       "219    -0.825114 -0.243216 -0.119030  0.228596 -0.037284      0   \n",
       "185323  0.789186 -0.031343 -0.255057 -1.865831 -0.442204      1   \n",
       "76      0.394751  0.260781 -0.484899  0.014071  0.027633      0   \n",
       "\n",
       "        scaled_amount  scaled_time  \n",
       "47          -0.292983     0.525943  \n",
       "55           0.809715     0.593497  \n",
       "219         -0.287678     0.587175  \n",
       "185323       0.327878     0.108615  \n",
       "76           0.042014    -0.491785  \n",
       "\n",
       "[5 rows x 31 columns]"
      ]
     },
     "execution_count": 36,
     "metadata": {},
     "output_type": "execute_result"
    }
   ],
   "source": [
    "df.head()"
   ]
  },
  {
   "cell_type": "code",
   "execution_count": 37,
   "id": "c145c5f7",
   "metadata": {},
   "outputs": [
    {
     "name": "stdout",
     "output_type": "stream",
     "text": [
      "0    0.5\n",
      "1    0.5\n",
      "Name: Class, dtype: float64\n"
     ]
    }
   ],
   "source": [
    "# now we have equal distribution of the class samples\n",
    "print(df['Class'].value_counts()/len(df))"
   ]
  },
  {
   "cell_type": "code",
   "execution_count": null,
   "id": "af08585e",
   "metadata": {},
   "outputs": [],
   "source": []
  },
  {
   "cell_type": "markdown",
   "id": "0b82651b",
   "metadata": {},
   "source": [
    "## Correlation matrix\n",
    "__The correlation matrix is the most important aspect of understanding a transaction's data. It determines if there are features that can influence a transaction's likelihood of being fraudulent. However, it's also important to use the correct dataframe (undersampled) in order to see which features have a positive or negative correlation.__"
   ]
  },
  {
   "cell_type": "code",
   "execution_count": 38,
   "id": "b56feebf",
   "metadata": {},
   "outputs": [
    {
     "data": {
      "image/png": "[encoded data removed]",
      "text/plain": [
       "<Figure size 1728x1440 with 4 Axes>"
      ]
     },
     "metadata": {
      "needs_background": "light"
     },
     "output_type": "display_data"
    }
   ],
   "source": [
    "f, (ax1, ax2) = plt.subplots(2, 1, figsize=(24,20))\n",
    "\n",
    "# Entire DataFrame\n",
    "corr = train.corr()\n",
    "sns.heatmap(corr,linewidth=0.3,linecolor='black', cmap='YlGnBu', annot_kws={'size':20}, ax=ax1)\n",
    "ax1.set_title(\"Imbalanced Correlation Matrix \\n (don't use for reference)\", fontsize=14)\n",
    "\n",
    "\n",
    "# the subsampled DataFrame\n",
    "sub_sample_corr = df.corr()\n",
    "sns.heatmap(sub_sample_corr, linewidth=0.3,linecolor='black', cmap='YlGnBu', annot_kws={'size':20}, ax=ax2)\n",
    "ax2.set_title('undersampled dataframe Correlation Matrix \\n (use for reference)', fontsize=14)\n",
    "plt.show()"
   ]
  },
  {
   "cell_type": "markdown",
   "id": "bb822300",
   "metadata": {},
   "source": [
    "- We can see that V18, V17, V16, V14, V12, V10, V9, V7, V6, V5, V3, V1 have negative correlation with the Class\n",
    "- we can see also that V2, V4, V11 have Positive correlation with the Class"
   ]
  },
  {
   "cell_type": "code",
   "execution_count": null,
   "id": "cbf16d40",
   "metadata": {},
   "outputs": [],
   "source": []
  },
  {
   "cell_type": "code",
   "execution_count": 39,
   "id": "c2990a48",
   "metadata": {},
   "outputs": [
    {
     "data": {
      "text/plain": [
       "Text(0.5, 1.0, 'Undersampled dataframe Correlation Matrix \\n (use for reference)')"
      ]
     },
     "execution_count": 39,
     "metadata": {},
     "output_type": "execute_result"
    },
    {
     "data": {
      "image/png": "[encoded data removed]",
      "text/plain": [
       "<Figure size 1080x720 with 4 Axes>"
      ]
     },
     "metadata": {
      "needs_background": "light"
     },
     "output_type": "display_data"
    }
   ],
   "source": [
    "f, (ax1, ax2) = plt.subplots(nrows=1, ncols=2, figsize=(15,10))\n",
    "\n",
    "sns.heatmap(corr[['Class']].sort_values(by=['Class'],ascending=False),\n",
    "            annot_kws={\"size\": 10},vmin=-1,cmap='PiYG', annot=True,ax=ax1)\n",
    "ax1.set_title(\"Imbalanced Correlation Matrix \\n (Entire dataset)\", fontsize=14)\n",
    "\n",
    "\n",
    "sns.heatmap(sub_sample_corr[['Class']].sort_values(by=['Class'],ascending=False),\n",
    "            annot_kws={\"size\": 10},vmin=-1,cmap='PiYG', annot=True,ax=ax2)\n",
    "ax2.set_title(\"Undersampled dataframe Correlation Matrix \\n (use for reference)\", fontsize=14)"
   ]
  },
  {
   "cell_type": "code",
   "execution_count": 40,
   "id": "aab7cba0",
   "metadata": {},
   "outputs": [],
   "source": [
    "negative_corr=['V14','V12','V10','V16','V3','V17','V7','V18','V1','V6','V5','V9']"
   ]
  },
  {
   "cell_type": "code",
   "execution_count": 41,
   "id": "dbe2a9d4",
   "metadata": {},
   "outputs": [],
   "source": [
    "#f, axes = plt.subplots(nrows=3,ncols=4, figsize=(25,15))\n",
    "#for i in range(3):\n",
    " #   for z in range(4):\n",
    "   #     for feature in negative_corr:\n",
    "       #     sns.boxplot(x=\"Class\", y=feature, data=df, ax=axes[i,z])\n",
    "            \n",
    "            "
   ]
  },
  {
   "cell_type": "code",
   "execution_count": 42,
   "id": "f2c0c6c2",
   "metadata": {},
   "outputs": [],
   "source": [
    "#f, axes = plt.subplots(nrows=3,ncols=4, figsize=(25,15))\n",
    "#for i in negative_corr:\n",
    "  #  sns.boxplot(x=\"Class\", y=i, data=df\n",
    "  #  for j in range(3):\n",
    "   #     for z in range(4):\n",
    "      #      sns.boxplot(x=\"Class\", y=i, data=df, ax=axes[j,z])"
   ]
  },
  {
   "cell_type": "markdown",
   "id": "339bd502",
   "metadata": {},
   "source": [
    "## Negative Correlations with our Class \n",
    "__The lower the feature value the more likely it will be a fraud transaction__"
   ]
  },
  {
   "cell_type": "code",
   "execution_count": 43,
   "id": "74efceac",
   "metadata": {},
   "outputs": [
    {
     "data": {
      "image/png": "[encoded data removed]",
      "text/plain": [
       "<Figure size 1800x1080 with 12 Axes>"
      ]
     },
     "metadata": {
      "needs_background": "light"
     },
     "output_type": "display_data"
    }
   ],
   "source": [
    "f, axes = plt.subplots(nrows=3,ncols=4, figsize=(25,15))\n",
    "\n",
    "sns.boxplot(x=\"Class\", y=\"V14\", data=df, ax=axes[0,0])\n",
    "axes[0,0].set_title('V14 vs Class Negative Correlation')\n",
    "\n",
    "sns.boxplot(x='Class',y='V12',data=df,ax=axes[0,1])\n",
    "axes[0,1].set_title('V12 vs Class Negative Correlation')\n",
    "\n",
    "sns.boxplot(x='Class',y='V10',data=df,ax=axes[0,2])\n",
    "axes[0,2].set_title('V10 vs Class Negative Correlation')\n",
    "\n",
    "sns.boxplot(x='Class',y='V16',data=df,ax=axes[0,3])\n",
    "axes[0,3].set_title('V16 vs Class Negative Correlation')\n",
    "\n",
    "sns.boxplot(x=\"Class\", y=\"V3\", data=df, ax=axes[1,0])\n",
    "axes[1,0].set_title('V3 vs Class Negative Correlation')\n",
    "\n",
    "sns.boxplot(x='Class',y='V17',data=df,ax=axes[1,1])\n",
    "axes[1,1].set_title('V17 vs Class Negative Correlation')\n",
    "\n",
    "sns.boxplot(x='Class',y='V7',data=df,ax=axes[1,2])\n",
    "axes[1,2].set_title('V7 vs Class Negative Correlation')\n",
    "\n",
    "sns.boxplot(x='Class',y='V18',data=df,ax=axes[1,3])\n",
    "axes[1,3].set_title('V18 vs Class Negative Correlation')\n",
    "\n",
    "sns.boxplot(x=\"Class\", y=\"V1\", data=df, ax=axes[2,0])\n",
    "axes[2,0].set_title('V1 vs Class Negative Correlation')\n",
    "\n",
    "sns.boxplot(x='Class',y='V6',data=df,ax=axes[2,1])\n",
    "axes[2,1].set_title('V6 vs Class Negative Correlation')\n",
    "\n",
    "sns.boxplot(x='Class',y='V5',data=df,ax=axes[2,2])\n",
    "axes[2,2].set_title('V5 vs Class Negative Correlation')\n",
    "\n",
    "sns.boxplot(x='Class',y='V9',data=df,ax=axes[2,3])\n",
    "axes[2,3].set_title('V9 vs Class Negative Correlation');\n",
    "\n"
   ]
  },
  {
   "cell_type": "markdown",
   "id": "87f7ab05",
   "metadata": {},
   "source": [
    "## Positive correlations \n",
    "__The higher the feature value the higher probability that it will be a fraud transaction__"
   ]
  },
  {
   "cell_type": "code",
   "execution_count": 44,
   "id": "77ff3148",
   "metadata": {},
   "outputs": [
    {
     "data": {
      "image/png": "[encoded data removed]",
      "text/plain": [
       "<Figure size 1440x288 with 3 Axes>"
      ]
     },
     "metadata": {
      "needs_background": "light"
     },
     "output_type": "display_data"
    }
   ],
   "source": [
    "f, axes = plt.subplots(ncols=3, figsize=(20,4))\n",
    "sns.boxplot(x=\"Class\", y=\"V4\", data=df, ax=axes[0])\n",
    "axes[0].set_title('V4 vs Class Positive Correlation')\n",
    "\n",
    "sns.boxplot(x=\"Class\", y=\"V11\", data=df, ax=axes[1])\n",
    "axes[1].set_title('V11 vs Class Positive Correlation')\n",
    "\n",
    "sns.boxplot(x=\"Class\", y=\"V2\", data=df, ax=axes[2])\n",
    "axes[2].set_title('V2 vs Class Positive Correlation');"
   ]
  },
  {
   "cell_type": "markdown",
   "id": "66a97298",
   "metadata": {},
   "source": [
    "## Anomaly Detection"
   ]
  },
  {
   "cell_type": "markdown",
   "id": "5025ef25",
   "metadata": {},
   "source": [
    "We want to remove the `extreme outliers` from the the high correlation features with Class, That can improve the accuracy of our model. We will not remove all the outliers to avoid information loss, we will just remove the extreme ones.\n",
    "\n",
    "__Steps:__\n",
    "\n",
    "     - we will use the IQR which will be calculated by subtracting the Q3 from Q1.\n",
    "     - We will set a threshould which will be beyound the Q3 and Q1 to only detect the extreme outliers and keeping the rest.\n",
    "     - The threshold is determined by multiplying a number by the interquartile range. The higher this number is, the less\n",
    "     outliers will be detected. The lower this threshold is, the more outliers it will detect."
   ]
  },
  {
   "cell_type": "markdown",
   "id": "ddcb918f",
   "metadata": {},
   "source": [
    "#### Visulize the distribution of the highest correlated features"
   ]
  },
  {
   "cell_type": "code",
   "execution_count": 45,
   "id": "f6d5a5ef",
   "metadata": {},
   "outputs": [],
   "source": [
    "highly_corr_features=['V4','V11','V14','V12']"
   ]
  },
  {
   "cell_type": "code",
   "execution_count": 46,
   "id": "fceee822",
   "metadata": {},
   "outputs": [],
   "source": [
    "V4_fraud_dist = df['V4'].loc[df['Class'] == 1].values\n",
    "V11_fraud_dist = df['V11'].loc[df['Class'] == 1].values\n",
    "V14_fraud_dist = df['V14'].loc[df['Class'] == 1].values\n",
    "V12_fraud_dist = df['V12'].loc[df['Class'] == 1].values"
   ]
  },
  {
   "cell_type": "code",
   "execution_count": 47,
   "id": "07bb3e1c",
   "metadata": {},
   "outputs": [
    {
     "data": {
      "text/plain": [
       "Text(0.5, 1.0, 'V14 Distribution \\n (Fraud Transactions)')"
      ]
     },
     "execution_count": 47,
     "metadata": {},
     "output_type": "execute_result"
    },
    {
     "data": {
      "image/png": "[encoded data removed]",
      "text/plain": [
       "<Figure size 1440x432 with 4 Axes>"
      ]
     },
     "metadata": {
      "needs_background": "light"
     },
     "output_type": "display_data"
    }
   ],
   "source": [
    "f, (ax1, ax2, ax3, ax4) = plt.subplots(1,4, figsize=(20, 6))\n",
    "\n",
    "sns.distplot(V4_fraud_dist,ax=ax1, fit=norm, color='#FB8861')\n",
    "ax1.set_title('V4 Distribution \\n (Fraud Transactions)', fontsize=14)\n",
    "\n",
    "sns.distplot(V12_fraud_dist,ax=ax2, fit=norm, color='#56F9BB')\n",
    "ax2.set_title('V12 Distribution \\n (Fraud Transactions)', fontsize=14)\n",
    "\n",
    "sns.distplot(V11_fraud_dist,ax=ax3, fit=norm, color='#C5B3F9')\n",
    "ax3.set_title('V11 Distribution \\n (Fraud Transactions)', fontsize=14)\n",
    "\n",
    "sns.distplot(V14_fraud_dist,ax=ax4, fit=norm, color='y')\n",
    "ax4.set_title('V14 Distribution \\n (Fraud Transactions)', fontsize=14)"
   ]
  },
  {
   "cell_type": "markdown",
   "id": "74aad863",
   "metadata": {},
   "source": [
    "## Removing Extreme outliers"
   ]
  },
  {
   "cell_type": "code",
   "execution_count": 48,
   "id": "0fd85f8e",
   "metadata": {},
   "outputs": [],
   "source": [
    "# setting the thersold to 1.5\n",
    "\n",
    "def outliers(df, feature):\n",
    "    Q1= df[feature].quantile(0.25)\n",
    "    Q3 = df[feature].quantile(0.75)\n",
    "    IQR = Q3 - Q1\n",
    "    upper_limit = Q3 + 1.5 * IQR\n",
    "    lower_limit = Q1 - 1.5 * IQR\n",
    "    return upper_limit, lower_limit"
   ]
  },
  {
   "cell_type": "code",
   "execution_count": 49,
   "id": "8a73eb91",
   "metadata": {},
   "outputs": [],
   "source": [
    "df_fraud=df.loc[df['Class'] == 1 ]"
   ]
  },
  {
   "cell_type": "markdown",
   "id": "47396faa",
   "metadata": {},
   "source": [
    "### Extreme outliers for V4"
   ]
  },
  {
   "cell_type": "code",
   "execution_count": 50,
   "id": "84b5c609",
   "metadata": {},
   "outputs": [
    {
     "data": {
      "text/plain": [
       "(12.456628273371138, -3.750198471313106)"
      ]
     },
     "execution_count": 50,
     "metadata": {},
     "output_type": "execute_result"
    }
   ],
   "source": [
    "# Extreme outliers for V14\n",
    "\n",
    "outliers(df_fraud,'V4')"
   ]
  },
  {
   "cell_type": "code",
   "execution_count": 51,
   "id": "484da8b0",
   "metadata": {},
   "outputs": [
    {
     "name": "stdout",
     "output_type": "stream",
     "text": [
      "Upper whisker:  12.456628273371138\n",
      "Lower Whisker:  -3.750198471313106\n"
     ]
    }
   ],
   "source": [
    "upper, lower=outliers(df_fraud,'V4')\n",
    "print(\"Upper whisker: \", upper)\n",
    "print(\"Lower Whisker: \", lower)"
   ]
  },
  {
   "cell_type": "code",
   "execution_count": 52,
   "id": "5c61a1f0",
   "metadata": {},
   "outputs": [],
   "source": [
    "# checking the outliers \n",
    "outlier=[]\n",
    "for i in df_fraud['V4']:\n",
    "    if i < lower or i > upper:\n",
    "        outlier.append(i)"
   ]
  },
  {
   "cell_type": "code",
   "execution_count": 53,
   "id": "b2383ddb",
   "metadata": {},
   "outputs": [
    {
     "name": "stdout",
     "output_type": "stream",
     "text": [
      "Number of fraud extreme outliers for V4:  0\n",
      "The fraud outliers values for V4  []\n"
     ]
    }
   ],
   "source": [
    "print('Number of fraud extreme outliers for V4: ',len(outlier))\n",
    "print('The fraud outliers values for V4 ',outlier)"
   ]
  },
  {
   "cell_type": "code",
   "execution_count": 54,
   "id": "f67d7daf",
   "metadata": {},
   "outputs": [],
   "source": [
    "# removing the outliers from the dataframe\n",
    "\n",
    "#new_df = df[(df['V4'] > lower) & (df['V4'] < upper)] # take all the values above lower and all the values below upper\n",
    "#new_df2 = df.drop(df[(df['V14'] > upper) | (df['V14'] < lower)].index)"
   ]
  },
  {
   "cell_type": "code",
   "execution_count": 55,
   "id": "1c35cbfe",
   "metadata": {},
   "outputs": [],
   "source": [
    "#new_df2 = df.drop(df[(df['V14'] > upper) | (df['V14'] < lower)].index)"
   ]
  },
  {
   "cell_type": "code",
   "execution_count": 56,
   "id": "d2c1c6a0",
   "metadata": {},
   "outputs": [],
   "source": [
    "df_fraud=df.loc[df['Class'] == 1 ]"
   ]
  },
  {
   "cell_type": "code",
   "execution_count": 57,
   "id": "ae444fcc",
   "metadata": {},
   "outputs": [
    {
     "data": {
      "text/plain": [
       "686"
      ]
     },
     "execution_count": 57,
     "metadata": {},
     "output_type": "execute_result"
    }
   ],
   "source": [
    "len(df)"
   ]
  },
  {
   "cell_type": "markdown",
   "id": "84fad405",
   "metadata": {},
   "source": [
    "### Extreme outliers for V12"
   ]
  },
  {
   "cell_type": "code",
   "execution_count": 58,
   "id": "c1eb42b6",
   "metadata": {},
   "outputs": [
    {
     "data": {
      "text/plain": [
       "(5.76275970406479, -17.46956256389873)"
      ]
     },
     "execution_count": 58,
     "metadata": {},
     "output_type": "execute_result"
    }
   ],
   "source": [
    "# Extreme outliers for V12\n",
    "\n",
    "outliers(df_fraud,'V12')"
   ]
  },
  {
   "cell_type": "code",
   "execution_count": 59,
   "id": "eeb5da53",
   "metadata": {},
   "outputs": [
    {
     "name": "stdout",
     "output_type": "stream",
     "text": [
      "Upper whisker:  5.76275970406479\n",
      "Lower Whisker:  -17.46956256389873\n"
     ]
    }
   ],
   "source": [
    "upper, lower=outliers(df_fraud,'V12')\n",
    "print(\"Upper whisker: \", upper)\n",
    "print(\"Lower Whisker: \", lower)"
   ]
  },
  {
   "cell_type": "code",
   "execution_count": 60,
   "id": "b11bf2fe",
   "metadata": {},
   "outputs": [],
   "source": [
    "# checking the outliers \n",
    "outlier=[]\n",
    "for i in df_fraud['V12']:\n",
    "    if i < lower or i > upper:\n",
    "        outlier.append(i)"
   ]
  },
  {
   "cell_type": "code",
   "execution_count": 61,
   "id": "6799aeda",
   "metadata": {},
   "outputs": [
    {
     "name": "stdout",
     "output_type": "stream",
     "text": [
      "Number of fraud extreme outliers for V12:  3\n",
      "The fraud outliers values for V12  [-18.4311310279993, -17.631606313870698, -17.7691434633638]\n"
     ]
    }
   ],
   "source": [
    "print('Number of fraud extreme outliers for V12: ',len(outlier))\n",
    "print('The fraud outliers values for V12 ',outlier)"
   ]
  },
  {
   "cell_type": "code",
   "execution_count": 62,
   "id": "4a43a2d0",
   "metadata": {},
   "outputs": [],
   "source": [
    "# removing the outliers from the dataframe\n",
    "\n",
    "new_df = df[(df['V12'] > lower) & (df['V12'] < upper)]"
   ]
  },
  {
   "cell_type": "code",
   "execution_count": 63,
   "id": "01dbb0d4",
   "metadata": {},
   "outputs": [
    {
     "data": {
      "text/plain": [
       "683"
      ]
     },
     "execution_count": 63,
     "metadata": {},
     "output_type": "execute_result"
    }
   ],
   "source": [
    "len(new_df) # 3 row removed"
   ]
  },
  {
   "cell_type": "markdown",
   "id": "05bfb867",
   "metadata": {},
   "source": [
    "### Extreme outliers for V11"
   ]
  },
  {
   "cell_type": "code",
   "execution_count": 64,
   "id": "c3701a7b",
   "metadata": {},
   "outputs": [],
   "source": [
    "df_fraud=new_df.loc[new_df['Class'] == 1 ]"
   ]
  },
  {
   "cell_type": "code",
   "execution_count": 65,
   "id": "e0d49b56",
   "metadata": {},
   "outputs": [
    {
     "data": {
      "text/plain": [
       "(10.039028933656981, -2.8473352157192084)"
      ]
     },
     "execution_count": 65,
     "metadata": {},
     "output_type": "execute_result"
    }
   ],
   "source": [
    "# Extreme outliers for V11\n",
    "\n",
    "outliers(df_fraud,'V11')"
   ]
  },
  {
   "cell_type": "code",
   "execution_count": 66,
   "id": "ad028332",
   "metadata": {},
   "outputs": [
    {
     "name": "stdout",
     "output_type": "stream",
     "text": [
      "Upper whisker:  10.039028933656981\n",
      "Lower Whisker:  -2.8473352157192084\n"
     ]
    }
   ],
   "source": [
    "upper, lower=outliers(df_fraud,'V11')\n",
    "print(\"Upper whisker: \", upper)\n",
    "print(\"Lower Whisker: \", lower)"
   ]
  },
  {
   "cell_type": "code",
   "execution_count": 67,
   "id": "c31a9113",
   "metadata": {},
   "outputs": [],
   "source": [
    "# checking the outliers \n",
    "outlier=[]\n",
    "for i in df_fraud['V11']:\n",
    "    if i < lower or i > upper:\n",
    "        outlier.append(i)"
   ]
  },
  {
   "cell_type": "code",
   "execution_count": 68,
   "id": "dd450764",
   "metadata": {},
   "outputs": [
    {
     "name": "stdout",
     "output_type": "stream",
     "text": [
      "Number of fraud extreme outliers for V11:  9\n",
      "The fraud outliers values for V11  [10.8530116481991, 10.5452629545898, 10.1875873241664, 11.6692047358121, 10.446846814514, 11.0270590938161, 11.228470279576, 11.152490598583698, 10.0637897462894]\n"
     ]
    }
   ],
   "source": [
    "print('Number of fraud extreme outliers for V11: ',len(outlier))\n",
    "print('The fraud outliers values for V11 ',outlier)"
   ]
  },
  {
   "cell_type": "code",
   "execution_count": 69,
   "id": "6ce1bb82",
   "metadata": {},
   "outputs": [],
   "source": [
    "# removing the outliers from the dataframe\n",
    "\n",
    "new_df = new_df[(new_df['V11'] > lower) & (new_df['V11'] < upper)]"
   ]
  },
  {
   "cell_type": "code",
   "execution_count": 70,
   "id": "c75b3c05",
   "metadata": {},
   "outputs": [
    {
     "data": {
      "text/plain": [
       "673"
      ]
     },
     "execution_count": 70,
     "metadata": {},
     "output_type": "execute_result"
    }
   ],
   "source": [
    "len(new_df)"
   ]
  },
  {
   "cell_type": "markdown",
   "id": "b7f46f41",
   "metadata": {},
   "source": [
    "### Extreme outliers for V14"
   ]
  },
  {
   "cell_type": "code",
   "execution_count": 71,
   "id": "06d28d57",
   "metadata": {},
   "outputs": [],
   "source": [
    "df_fraud=new_df.loc[new_df['Class'] == 1 ]"
   ]
  },
  {
   "cell_type": "code",
   "execution_count": 72,
   "id": "02849b2b",
   "metadata": {},
   "outputs": [
    {
     "data": {
      "text/plain": [
       "(3.68785764968416, -16.967343833840133)"
      ]
     },
     "execution_count": 72,
     "metadata": {},
     "output_type": "execute_result"
    }
   ],
   "source": [
    "# Extreme outliers for V11\n",
    "\n",
    "outliers(df_fraud,'V14')"
   ]
  },
  {
   "cell_type": "code",
   "execution_count": 73,
   "id": "b92ee7bd",
   "metadata": {},
   "outputs": [
    {
     "name": "stdout",
     "output_type": "stream",
     "text": [
      "Upper whisker:  3.68785764968416\n",
      "Lower Whisker:  -16.967343833840133\n"
     ]
    }
   ],
   "source": [
    "upper, lower=outliers(df_fraud,'V14')\n",
    "print(\"Upper whisker: \", upper)\n",
    "print(\"Lower Whisker: \", lower)"
   ]
  },
  {
   "cell_type": "code",
   "execution_count": 74,
   "id": "1e9509da",
   "metadata": {},
   "outputs": [],
   "source": [
    "# checking the outliers \n",
    "outlier=[]\n",
    "for i in df_fraud['V14']:\n",
    "    if i < lower or i > upper:\n",
    "        outlier.append(i)"
   ]
  },
  {
   "cell_type": "code",
   "execution_count": 75,
   "id": "2f491b73",
   "metadata": {},
   "outputs": [
    {
     "name": "stdout",
     "output_type": "stream",
     "text": [
      "Number of fraud extreme outliers for V14:  1\n",
      "The fraud outliers values for V14  [-17.6206343516773]\n"
     ]
    }
   ],
   "source": [
    "print('Number of fraud extreme outliers for V14: ',len(outlier))\n",
    "print('The fraud outliers values for V14 ',outlier)"
   ]
  },
  {
   "cell_type": "code",
   "execution_count": 76,
   "id": "0465301e",
   "metadata": {},
   "outputs": [],
   "source": [
    "# removing the outliers from the dataframe\n",
    "\n",
    "new_df = new_df[(new_df['V14'] > lower) & (new_df['V14'] < upper)]"
   ]
  },
  {
   "cell_type": "code",
   "execution_count": 77,
   "id": "e625aae9",
   "metadata": {},
   "outputs": [
    {
     "data": {
      "text/plain": [
       "672"
      ]
     },
     "execution_count": 77,
     "metadata": {},
     "output_type": "execute_result"
    }
   ],
   "source": [
    "len(new_df)"
   ]
  },
  {
   "cell_type": "code",
   "execution_count": 78,
   "id": "e65924c9",
   "metadata": {},
   "outputs": [
    {
     "data": {
      "image/png": "[encoded data removed]",
      "text/plain": [
       "<Figure size 1440x432 with 3 Axes>"
      ]
     },
     "metadata": {
      "needs_background": "light"
     },
     "output_type": "display_data"
    }
   ],
   "source": [
    "f,(ax1, ax2, ax3) = plt.subplots(1, 3, figsize=(20,6))\n",
    "\n",
    "# Boxplots with outliers removed\n",
    "# Feature V14\n",
    "sns.boxplot(x=\"Class\", y=\"V14\", data=new_df,ax=ax1)\n",
    "ax1.set_title(\"V14 Feature \\n Reduction of outliers\", fontsize=14)\n",
    "ax1.annotate('Fewer extreme \\n outliers', xy=(0.98, -17), xytext=(0, -12),\n",
    "             arrowprops=dict(facecolor='black'),fontsize=14)\n",
    "\n",
    "# Feature 12\n",
    "sns.boxplot(x=\"Class\", y=\"V12\", data=new_df, ax=ax2)\n",
    "ax2.set_title(\"V12 Feature \\n Reduction of outliers\", fontsize=14)\n",
    "ax2.annotate('Fewer extreme \\n outliers', xy=(0.98, -17.3), xytext=(0, -12),\n",
    "            arrowprops=dict(facecolor='black'),\n",
    "            fontsize=14)\n",
    "\n",
    "\n",
    "# Feature 11\n",
    "sns.boxplot(x=\"Class\", y=\"V11\", data=new_df, ax=ax3)\n",
    "ax3.set_title(\"V12 Feature \\n Reduction of outliers\", fontsize=14)\n",
    "ax3.annotate('Fewer extreme \\n outliers', xy=(0.98, 10.3), xytext=(0, 5),\n",
    "            arrowprops=dict(facecolor='black'),\n",
    "            fontsize=14);"
   ]
  },
  {
   "cell_type": "code",
   "execution_count": 79,
   "id": "7ea92d98",
   "metadata": {},
   "outputs": [
    {
     "data": {
      "text/html": [
       "<div>\n",
       "<style scoped>\n",
       "    .dataframe tbody tr th:only-of-type {\n",
       "        vertical-align: middle;\n",
       "    }\n",
       "\n",
       "    .dataframe tbody tr th {\n",
       "        vertical-align: top;\n",
       "    }\n",
       "\n",
       "    .dataframe thead th {\n",
       "        text-align: right;\n",
       "    }\n",
       "</style>\n",
       "<table border=\"1\" class=\"dataframe\">\n",
       "  <thead>\n",
       "    <tr style=\"text-align: right;\">\n",
       "      <th></th>\n",
       "      <th>V1</th>\n",
       "      <th>V2</th>\n",
       "      <th>V3</th>\n",
       "      <th>V4</th>\n",
       "      <th>V5</th>\n",
       "      <th>V6</th>\n",
       "      <th>V7</th>\n",
       "      <th>V8</th>\n",
       "      <th>V9</th>\n",
       "      <th>V10</th>\n",
       "      <th>...</th>\n",
       "      <th>V22</th>\n",
       "      <th>V23</th>\n",
       "      <th>V24</th>\n",
       "      <th>V25</th>\n",
       "      <th>V26</th>\n",
       "      <th>V27</th>\n",
       "      <th>V28</th>\n",
       "      <th>Class</th>\n",
       "      <th>scaled_amount</th>\n",
       "      <th>scaled_time</th>\n",
       "    </tr>\n",
       "  </thead>\n",
       "  <tbody>\n",
       "    <tr>\n",
       "      <th>47</th>\n",
       "      <td>-0.321084</td>\n",
       "      <td>0.836512</td>\n",
       "      <td>-0.742182</td>\n",
       "      <td>-0.701522</td>\n",
       "      <td>0.998196</td>\n",
       "      <td>-0.902667</td>\n",
       "      <td>0.639055</td>\n",
       "      <td>0.153341</td>\n",
       "      <td>-0.333154</td>\n",
       "      <td>-0.842458</td>\n",
       "      <td>...</td>\n",
       "      <td>1.278432</td>\n",
       "      <td>-0.090199</td>\n",
       "      <td>0.534110</td>\n",
       "      <td>-0.780533</td>\n",
       "      <td>-0.351613</td>\n",
       "      <td>0.146115</td>\n",
       "      <td>0.166626</td>\n",
       "      <td>0</td>\n",
       "      <td>-0.292983</td>\n",
       "      <td>0.525943</td>\n",
       "    </tr>\n",
       "    <tr>\n",
       "      <th>55</th>\n",
       "      <td>2.127554</td>\n",
       "      <td>-1.551985</td>\n",
       "      <td>-0.355897</td>\n",
       "      <td>-1.425165</td>\n",
       "      <td>-1.676873</td>\n",
       "      <td>-0.705231</td>\n",
       "      <td>-1.212498</td>\n",
       "      <td>-0.208941</td>\n",
       "      <td>-1.135844</td>\n",
       "      <td>1.449743</td>\n",
       "      <td>...</td>\n",
       "      <td>-0.607668</td>\n",
       "      <td>0.402901</td>\n",
       "      <td>-0.051864</td>\n",
       "      <td>-0.614145</td>\n",
       "      <td>-0.491166</td>\n",
       "      <td>0.035739</td>\n",
       "      <td>-0.021507</td>\n",
       "      <td>0</td>\n",
       "      <td>0.809715</td>\n",
       "      <td>0.593497</td>\n",
       "    </tr>\n",
       "    <tr>\n",
       "      <th>219</th>\n",
       "      <td>0.251492</td>\n",
       "      <td>0.939998</td>\n",
       "      <td>-0.623150</td>\n",
       "      <td>-0.362205</td>\n",
       "      <td>1.361844</td>\n",
       "      <td>-0.907140</td>\n",
       "      <td>1.143896</td>\n",
       "      <td>-0.444603</td>\n",
       "      <td>0.129260</td>\n",
       "      <td>-0.569688</td>\n",
       "      <td>...</td>\n",
       "      <td>0.962588</td>\n",
       "      <td>-0.321665</td>\n",
       "      <td>-0.825114</td>\n",
       "      <td>-0.243216</td>\n",
       "      <td>-0.119030</td>\n",
       "      <td>0.228596</td>\n",
       "      <td>-0.037284</td>\n",
       "      <td>0</td>\n",
       "      <td>-0.287678</td>\n",
       "      <td>0.587175</td>\n",
       "    </tr>\n",
       "    <tr>\n",
       "      <th>185323</th>\n",
       "      <td>-13.512074</td>\n",
       "      <td>8.215177</td>\n",
       "      <td>-16.582606</td>\n",
       "      <td>6.207369</td>\n",
       "      <td>-11.318472</td>\n",
       "      <td>-2.997207</td>\n",
       "      <td>-17.640470</td>\n",
       "      <td>0.040349</td>\n",
       "      <td>-5.620232</td>\n",
       "      <td>-15.123752</td>\n",
       "      <td>...</td>\n",
       "      <td>1.514028</td>\n",
       "      <td>-0.141879</td>\n",
       "      <td>0.789186</td>\n",
       "      <td>-0.031343</td>\n",
       "      <td>-0.255057</td>\n",
       "      <td>-1.865831</td>\n",
       "      <td>-0.442204</td>\n",
       "      <td>1</td>\n",
       "      <td>0.327878</td>\n",
       "      <td>0.108615</td>\n",
       "    </tr>\n",
       "    <tr>\n",
       "      <th>76</th>\n",
       "      <td>1.375792</td>\n",
       "      <td>-0.414610</td>\n",
       "      <td>0.579765</td>\n",
       "      <td>-0.659644</td>\n",
       "      <td>-1.046697</td>\n",
       "      <td>-1.002681</td>\n",
       "      <td>-0.463264</td>\n",
       "      <td>-0.252209</td>\n",
       "      <td>-0.915278</td>\n",
       "      <td>0.569307</td>\n",
       "      <td>...</td>\n",
       "      <td>-0.324959</td>\n",
       "      <td>0.107835</td>\n",
       "      <td>0.394751</td>\n",
       "      <td>0.260781</td>\n",
       "      <td>-0.484899</td>\n",
       "      <td>0.014071</td>\n",
       "      <td>0.027633</td>\n",
       "      <td>0</td>\n",
       "      <td>0.042014</td>\n",
       "      <td>-0.491785</td>\n",
       "    </tr>\n",
       "    <tr>\n",
       "      <th>...</th>\n",
       "      <td>...</td>\n",
       "      <td>...</td>\n",
       "      <td>...</td>\n",
       "      <td>...</td>\n",
       "      <td>...</td>\n",
       "      <td>...</td>\n",
       "      <td>...</td>\n",
       "      <td>...</td>\n",
       "      <td>...</td>\n",
       "      <td>...</td>\n",
       "      <td>...</td>\n",
       "      <td>...</td>\n",
       "      <td>...</td>\n",
       "      <td>...</td>\n",
       "      <td>...</td>\n",
       "      <td>...</td>\n",
       "      <td>...</td>\n",
       "      <td>...</td>\n",
       "      <td>...</td>\n",
       "      <td>...</td>\n",
       "      <td>...</td>\n",
       "    </tr>\n",
       "    <tr>\n",
       "      <th>291</th>\n",
       "      <td>1.166075</td>\n",
       "      <td>-1.142217</td>\n",
       "      <td>0.916128</td>\n",
       "      <td>-0.673762</td>\n",
       "      <td>-1.366329</td>\n",
       "      <td>0.478491</td>\n",
       "      <td>-1.311252</td>\n",
       "      <td>0.348172</td>\n",
       "      <td>-0.205943</td>\n",
       "      <td>0.629487</td>\n",
       "      <td>...</td>\n",
       "      <td>1.020986</td>\n",
       "      <td>-0.174172</td>\n",
       "      <td>-0.277795</td>\n",
       "      <td>0.342094</td>\n",
       "      <td>-0.017592</td>\n",
       "      <td>0.043764</td>\n",
       "      <td>0.018148</td>\n",
       "      <td>0</td>\n",
       "      <td>0.753882</td>\n",
       "      <td>-0.290900</td>\n",
       "    </tr>\n",
       "    <tr>\n",
       "      <th>68784</th>\n",
       "      <td>0.333499</td>\n",
       "      <td>1.699873</td>\n",
       "      <td>-2.596561</td>\n",
       "      <td>3.643945</td>\n",
       "      <td>-0.585068</td>\n",
       "      <td>-0.654659</td>\n",
       "      <td>-2.275789</td>\n",
       "      <td>0.675229</td>\n",
       "      <td>-2.042416</td>\n",
       "      <td>-2.834871</td>\n",
       "      <td>...</td>\n",
       "      <td>-0.144363</td>\n",
       "      <td>-0.317981</td>\n",
       "      <td>-0.769644</td>\n",
       "      <td>0.807855</td>\n",
       "      <td>0.228164</td>\n",
       "      <td>0.551002</td>\n",
       "      <td>0.305473</td>\n",
       "      <td>1</td>\n",
       "      <td>-0.042293</td>\n",
       "      <td>-0.590618</td>\n",
       "    </tr>\n",
       "    <tr>\n",
       "      <th>183</th>\n",
       "      <td>1.148796</td>\n",
       "      <td>-0.004964</td>\n",
       "      <td>0.827780</td>\n",
       "      <td>0.761462</td>\n",
       "      <td>-0.912108</td>\n",
       "      <td>-0.991064</td>\n",
       "      <td>-0.160838</td>\n",
       "      <td>-0.149432</td>\n",
       "      <td>0.279300</td>\n",
       "      <td>-0.081745</td>\n",
       "      <td>...</td>\n",
       "      <td>0.102467</td>\n",
       "      <td>0.007094</td>\n",
       "      <td>0.742650</td>\n",
       "      <td>0.279719</td>\n",
       "      <td>0.323144</td>\n",
       "      <td>-0.022172</td>\n",
       "      <td>0.029272</td>\n",
       "      <td>0</td>\n",
       "      <td>0.249991</td>\n",
       "      <td>-0.373317</td>\n",
       "    </tr>\n",
       "    <tr>\n",
       "      <th>85</th>\n",
       "      <td>2.013881</td>\n",
       "      <td>0.137353</td>\n",
       "      <td>-1.797628</td>\n",
       "      <td>0.557850</td>\n",
       "      <td>0.157857</td>\n",
       "      <td>-1.505522</td>\n",
       "      <td>0.292655</td>\n",
       "      <td>-0.383898</td>\n",
       "      <td>0.629665</td>\n",
       "      <td>-0.517121</td>\n",
       "      <td>...</td>\n",
       "      <td>0.679707</td>\n",
       "      <td>-0.047730</td>\n",
       "      <td>-0.103067</td>\n",
       "      <td>0.243447</td>\n",
       "      <td>-0.101260</td>\n",
       "      <td>-0.007545</td>\n",
       "      <td>-0.025836</td>\n",
       "      <td>0</td>\n",
       "      <td>0.079003</td>\n",
       "      <td>0.764407</td>\n",
       "    </tr>\n",
       "    <tr>\n",
       "      <th>273</th>\n",
       "      <td>1.825852</td>\n",
       "      <td>-0.244774</td>\n",
       "      <td>-0.164826</td>\n",
       "      <td>1.269305</td>\n",
       "      <td>-0.555086</td>\n",
       "      <td>-0.256848</td>\n",
       "      <td>-0.452727</td>\n",
       "      <td>0.011394</td>\n",
       "      <td>0.498543</td>\n",
       "      <td>0.347407</td>\n",
       "      <td>...</td>\n",
       "      <td>0.987670</td>\n",
       "      <td>0.088195</td>\n",
       "      <td>0.088842</td>\n",
       "      <td>-0.116958</td>\n",
       "      <td>-0.594589</td>\n",
       "      <td>0.051043</td>\n",
       "      <td>-0.029494</td>\n",
       "      <td>0</td>\n",
       "      <td>0.383990</td>\n",
       "      <td>0.749801</td>\n",
       "    </tr>\n",
       "  </tbody>\n",
       "</table>\n",
       "<p>672 rows × 31 columns</p>\n",
       "</div>"
      ],
      "text/plain": [
       "               V1        V2         V3        V4         V5        V6  \\\n",
       "47      -0.321084  0.836512  -0.742182 -0.701522   0.998196 -0.902667   \n",
       "55       2.127554 -1.551985  -0.355897 -1.425165  -1.676873 -0.705231   \n",
       "219      0.251492  0.939998  -0.623150 -0.362205   1.361844 -0.907140   \n",
       "185323 -13.512074  8.215177 -16.582606  6.207369 -11.318472 -2.997207   \n",
       "76       1.375792 -0.414610   0.579765 -0.659644  -1.046697 -1.002681   \n",
       "...           ...       ...        ...       ...        ...       ...   \n",
       "291      1.166075 -1.142217   0.916128 -0.673762  -1.366329  0.478491   \n",
       "68784    0.333499  1.699873  -2.596561  3.643945  -0.585068 -0.654659   \n",
       "183      1.148796 -0.004964   0.827780  0.761462  -0.912108 -0.991064   \n",
       "85       2.013881  0.137353  -1.797628  0.557850   0.157857 -1.505522   \n",
       "273      1.825852 -0.244774  -0.164826  1.269305  -0.555086 -0.256848   \n",
       "\n",
       "               V7        V8        V9        V10  ...       V22       V23  \\\n",
       "47       0.639055  0.153341 -0.333154  -0.842458  ...  1.278432 -0.090199   \n",
       "55      -1.212498 -0.208941 -1.135844   1.449743  ... -0.607668  0.402901   \n",
       "219      1.143896 -0.444603  0.129260  -0.569688  ...  0.962588 -0.321665   \n",
       "185323 -17.640470  0.040349 -5.620232 -15.123752  ...  1.514028 -0.141879   \n",
       "76      -0.463264 -0.252209 -0.915278   0.569307  ... -0.324959  0.107835   \n",
       "...           ...       ...       ...        ...  ...       ...       ...   \n",
       "291     -1.311252  0.348172 -0.205943   0.629487  ...  1.020986 -0.174172   \n",
       "68784   -2.275789  0.675229 -2.042416  -2.834871  ... -0.144363 -0.317981   \n",
       "183     -0.160838 -0.149432  0.279300  -0.081745  ...  0.102467  0.007094   \n",
       "85       0.292655 -0.383898  0.629665  -0.517121  ...  0.679707 -0.047730   \n",
       "273     -0.452727  0.011394  0.498543   0.347407  ...  0.987670  0.088195   \n",
       "\n",
       "             V24       V25       V26       V27       V28  Class  \\\n",
       "47      0.534110 -0.780533 -0.351613  0.146115  0.166626      0   \n",
       "55     -0.051864 -0.614145 -0.491166  0.035739 -0.021507      0   \n",
       "219    -0.825114 -0.243216 -0.119030  0.228596 -0.037284      0   \n",
       "185323  0.789186 -0.031343 -0.255057 -1.865831 -0.442204      1   \n",
       "76      0.394751  0.260781 -0.484899  0.014071  0.027633      0   \n",
       "...          ...       ...       ...       ...       ...    ...   \n",
       "291    -0.277795  0.342094 -0.017592  0.043764  0.018148      0   \n",
       "68784  -0.769644  0.807855  0.228164  0.551002  0.305473      1   \n",
       "183     0.742650  0.279719  0.323144 -0.022172  0.029272      0   \n",
       "85     -0.103067  0.243447 -0.101260 -0.007545 -0.025836      0   \n",
       "273     0.088842 -0.116958 -0.594589  0.051043 -0.029494      0   \n",
       "\n",
       "        scaled_amount  scaled_time  \n",
       "47          -0.292983     0.525943  \n",
       "55           0.809715     0.593497  \n",
       "219         -0.287678     0.587175  \n",
       "185323       0.327878     0.108615  \n",
       "76           0.042014    -0.491785  \n",
       "...               ...          ...  \n",
       "291          0.753882    -0.290900  \n",
       "68784       -0.042293    -0.590618  \n",
       "183          0.249991    -0.373317  \n",
       "85           0.079003     0.764407  \n",
       "273          0.383990     0.749801  \n",
       "\n",
       "[672 rows x 31 columns]"
      ]
     },
     "execution_count": 79,
     "metadata": {},
     "output_type": "execute_result"
    }
   ],
   "source": [
    "# checking the final df\n",
    "new_df"
   ]
  },
  {
   "cell_type": "markdown",
   "id": "8e2d7388",
   "metadata": {},
   "source": [
    "# Modeling "
   ]
  },
  {
   "cell_type": "code",
   "execution_count": 80,
   "id": "d29724ee",
   "metadata": {},
   "outputs": [],
   "source": [
    "X=new_df.drop('Class',axis=1)\n",
    "y=new_df['Class']"
   ]
  },
  {
   "cell_type": "code",
   "execution_count": 87,
   "id": "10a19fdd",
   "metadata": {},
   "outputs": [],
   "source": [
    "from sklearn.model_selection import train_test_split"
   ]
  },
  {
   "cell_type": "code",
   "execution_count": 88,
   "id": "8c271071",
   "metadata": {},
   "outputs": [],
   "source": [
    "X_train, X_test, y_train, y_test = train_test_split(X, y, test_size=0.2, random_state=42)"
   ]
  },
  {
   "cell_type": "code",
   "execution_count": 89,
   "id": "ceec5ea9",
   "metadata": {},
   "outputs": [],
   "source": [
    "# Classifier Libraries\n",
    "from sklearn.linear_model import LogisticRegression\n",
    "from sklearn.svm import SVC\n",
    "from sklearn.neighbors import KNeighborsClassifier\n",
    "from sklearn.tree import DecisionTreeClassifier\n",
    "from sklearn.ensemble import RandomForestClassifier\n",
    "import collections\n",
    "from sklearn.model_selection import cross_val_score"
   ]
  },
  {
   "cell_type": "code",
   "execution_count": 90,
   "id": "07147925",
   "metadata": {},
   "outputs": [],
   "source": [
    "# Let's implement simple classifiers\n",
    "\n",
    "classifiers = {\n",
    "    \"LogisiticRegression\": LogisticRegression(),\n",
    "    \"KNN\": KNeighborsClassifier(),\n",
    "    \"Support Vector Classifier\": SVC(),\n",
    "    \"DecisionTreeClassifier\": DecisionTreeClassifier()\n",
    "}"
   ]
  },
  {
   "cell_type": "code",
   "execution_count": 91,
   "id": "3ed03da7",
   "metadata": {},
   "outputs": [
    {
     "name": "stdout",
     "output_type": "stream",
     "text": [
      "the training accuracy for :  LogisticRegression() is :  94.0 %\n",
      "the training accuracy for :  KNeighborsClassifier() is :  94.0 %\n",
      "the training accuracy for :  SVC() is :  94.0 %\n",
      "the training accuracy for :  DecisionTreeClassifier() is :  92.0 %\n"
     ]
    }
   ],
   "source": [
    "for key,classifier in classifiers.items():\n",
    "    classifier.fit(X_train,y_train)\n",
    "    training_score = cross_val_score(classifier, X_train, y_train, cv=5)\n",
    "    print('the training accuracy for : ',classifier, 'is : ',round(training_score.mean(), 2) * 100,\"%\")"
   ]
  },
  {
   "cell_type": "code",
   "execution_count": 92,
   "id": "baa00bdd",
   "metadata": {},
   "outputs": [],
   "source": [
    "from sklearn.model_selection import GridSearchCV"
   ]
  },
  {
   "cell_type": "markdown",
   "id": "d488d6c7",
   "metadata": {},
   "source": [
    "__1- Tuning logistic regression__"
   ]
  },
  {
   "cell_type": "code",
   "execution_count": 93,
   "id": "27945899",
   "metadata": {},
   "outputs": [],
   "source": [
    "log_reg_params = {\"penalty\": ['l1', 'l2'], 'C': [0.001, 0.01, 0.1, 1, 10, 100, 1000]}"
   ]
  },
  {
   "cell_type": "code",
   "execution_count": 94,
   "id": "3c4446a4",
   "metadata": {},
   "outputs": [],
   "source": [
    "grid_log_reg = GridSearchCV(LogisticRegression(), log_reg_params)"
   ]
  },
  {
   "cell_type": "code",
   "execution_count": 95,
   "id": "1604dfeb",
   "metadata": {},
   "outputs": [
    {
     "data": {
      "text/html": [
       "<style>#sk-container-id-1 {color: black;background-color: white;}#sk-container-id-1 pre{padding: 0;}#sk-container-id-1 div.sk-toggleable {background-color: white;}#sk-container-id-1 label.sk-toggleable__label {cursor: pointer;display: block;width: 100%;margin-bottom: 0;padding: 0.3em;box-sizing: border-box;text-align: center;}#sk-container-id-1 label.sk-toggleable__label-arrow:before {content: \"▸\";float: left;margin-right: 0.25em;color: #696969;}#sk-container-id-1 label.sk-toggleable__label-arrow:hover:before {color: black;}#sk-container-id-1 div.sk-estimator:hover label.sk-toggleable__label-arrow:before {color: black;}#sk-container-id-1 div.sk-toggleable__content {max-height: 0;max-width: 0;overflow: hidden;text-align: left;background-color: #f0f8ff;}#sk-container-id-1 div.sk-toggleable__content pre {margin: 0.2em;color: black;border-radius: 0.25em;background-color: #f0f8ff;}#sk-container-id-1 input.sk-toggleable__control:checked~div.sk-toggleable__content {max-height: 200px;max-width: 100%;overflow: auto;}#sk-container-id-1 input.sk-toggleable__control:checked~label.sk-toggleable__label-arrow:before {content: \"▾\";}#sk-container-id-1 div.sk-estimator input.sk-toggleable__control:checked~label.sk-toggleable__label {background-color: #d4ebff;}#sk-container-id-1 div.sk-label input.sk-toggleable__control:checked~label.sk-toggleable__label {background-color: #d4ebff;}#sk-container-id-1 input.sk-hidden--visually {border: 0;clip: rect(1px 1px 1px 1px);clip: rect(1px, 1px, 1px, 1px);height: 1px;margin: -1px;overflow: hidden;padding: 0;position: absolute;width: 1px;}#sk-container-id-1 div.sk-estimator {font-family: monospace;background-color: #f0f8ff;border: 1px dotted black;border-radius: 0.25em;box-sizing: border-box;margin-bottom: 0.5em;}#sk-container-id-1 div.sk-estimator:hover {background-color: #d4ebff;}#sk-container-id-1 div.sk-parallel-item::after {content: \"\";width: 100%;border-bottom: 1px solid gray;flex-grow: 1;}#sk-container-id-1 div.sk-label:hover label.sk-toggleable__label {background-color: #d4ebff;}#sk-container-id-1 div.sk-serial::before {content: \"\";position: absolute;border-left: 1px solid gray;box-sizing: border-box;top: 0;bottom: 0;left: 50%;z-index: 0;}#sk-container-id-1 div.sk-serial {display: flex;flex-direction: column;align-items: center;background-color: white;padding-right: 0.2em;padding-left: 0.2em;position: relative;}#sk-container-id-1 div.sk-item {position: relative;z-index: 1;}#sk-container-id-1 div.sk-parallel {display: flex;align-items: stretch;justify-content: center;background-color: white;position: relative;}#sk-container-id-1 div.sk-item::before, #sk-container-id-1 div.sk-parallel-item::before {content: \"\";position: absolute;border-left: 1px solid gray;box-sizing: border-box;top: 0;bottom: 0;left: 50%;z-index: -1;}#sk-container-id-1 div.sk-parallel-item {display: flex;flex-direction: column;z-index: 1;position: relative;background-color: white;}#sk-container-id-1 div.sk-parallel-item:first-child::after {align-self: flex-end;width: 50%;}#sk-container-id-1 div.sk-parallel-item:last-child::after {align-self: flex-start;width: 50%;}#sk-container-id-1 div.sk-parallel-item:only-child::after {width: 0;}#sk-container-id-1 div.sk-dashed-wrapped {border: 1px dashed gray;margin: 0 0.4em 0.5em 0.4em;box-sizing: border-box;padding-bottom: 0.4em;background-color: white;}#sk-container-id-1 div.sk-label label {font-family: monospace;font-weight: bold;display: inline-block;line-height: 1.2em;}#sk-container-id-1 div.sk-label-container {text-align: center;}#sk-container-id-1 div.sk-container {/* jupyter's `normalize.less` sets `[hidden] { display: none; }` but bootstrap.min.css set `[hidden] { display: none !important; }` so we also need the `!important` here to be able to override the default hidden behavior on the sphinx rendered scikit-learn.org. See: https://github.com/scikit-learn/scikit-learn/issues/21755 */display: inline-block !important;position: relative;}#sk-container-id-1 div.sk-text-repr-fallback {display: none;}</style><div id=\"sk-container-id-1\" class=\"sk-top-container\"><div class=\"sk-text-repr-fallback\"><pre>GridSearchCV(estimator=LogisticRegression(),\n",
       "             param_grid={&#x27;C&#x27;: [0.001, 0.01, 0.1, 1, 10, 100, 1000],\n",
       "                         &#x27;penalty&#x27;: [&#x27;l1&#x27;, &#x27;l2&#x27;]})</pre><b>In a Jupyter environment, please rerun this cell to show the HTML representation or trust the notebook. <br />On GitHub, the HTML representation is unable to render, please try loading this page with nbviewer.org.</b></div><div class=\"sk-container\" hidden><div class=\"sk-item sk-dashed-wrapped\"><div class=\"sk-label-container\"><div class=\"sk-label sk-toggleable\"><input class=\"sk-toggleable__control sk-hidden--visually\" id=\"sk-estimator-id-1\" type=\"checkbox\" ><label for=\"sk-estimator-id-1\" class=\"sk-toggleable__label sk-toggleable__label-arrow\">GridSearchCV</label><div class=\"sk-toggleable__content\"><pre>GridSearchCV(estimator=LogisticRegression(),\n",
       "             param_grid={&#x27;C&#x27;: [0.001, 0.01, 0.1, 1, 10, 100, 1000],\n",
       "                         &#x27;penalty&#x27;: [&#x27;l1&#x27;, &#x27;l2&#x27;]})</pre></div></div></div><div class=\"sk-parallel\"><div class=\"sk-parallel-item\"><div class=\"sk-item\"><div class=\"sk-label-container\"><div class=\"sk-label sk-toggleable\"><input class=\"sk-toggleable__control sk-hidden--visually\" id=\"sk-estimator-id-2\" type=\"checkbox\" ><label for=\"sk-estimator-id-2\" class=\"sk-toggleable__label sk-toggleable__label-arrow\">estimator: LogisticRegression</label><div class=\"sk-toggleable__content\"><pre>LogisticRegression()</pre></div></div></div><div class=\"sk-serial\"><div class=\"sk-item\"><div class=\"sk-estimator sk-toggleable\"><input class=\"sk-toggleable__control sk-hidden--visually\" id=\"sk-estimator-id-3\" type=\"checkbox\" ><label for=\"sk-estimator-id-3\" class=\"sk-toggleable__label sk-toggleable__label-arrow\">LogisticRegression</label><div class=\"sk-toggleable__content\"><pre>LogisticRegression()</pre></div></div></div></div></div></div></div></div></div></div>"
      ],
      "text/plain": [
       "GridSearchCV(estimator=LogisticRegression(),\n",
       "             param_grid={'C': [0.001, 0.01, 0.1, 1, 10, 100, 1000],\n",
       "                         'penalty': ['l1', 'l2']})"
      ]
     },
     "execution_count": 95,
     "metadata": {},
     "output_type": "execute_result"
    }
   ],
   "source": [
    "grid_log_reg.fit(X_train, y_train)"
   ]
  },
  {
   "cell_type": "code",
   "execution_count": 96,
   "id": "4cfa3d52",
   "metadata": {},
   "outputs": [],
   "source": [
    "# Best parameters\n",
    "log_reg=grid_log_reg.best_estimator_"
   ]
  },
  {
   "cell_type": "markdown",
   "id": "812603a1",
   "metadata": {},
   "source": [
    "__2- Tune KNN__"
   ]
  },
  {
   "cell_type": "code",
   "execution_count": 97,
   "id": "db96f98b",
   "metadata": {},
   "outputs": [],
   "source": [
    "knn_params = {\"n_neighbors\": list(range(2,5,1)), 'algorithm': ['auto', 'ball_tree', 'kd_tree', 'brute']}"
   ]
  },
  {
   "cell_type": "code",
   "execution_count": 98,
   "id": "331cd6e3",
   "metadata": {},
   "outputs": [],
   "source": [
    "grid_knears = GridSearchCV(KNeighborsClassifier(), knn_params)"
   ]
  },
  {
   "cell_type": "code",
   "execution_count": 99,
   "id": "a750da0a",
   "metadata": {},
   "outputs": [
    {
     "data": {
      "text/html": [
       "<style>#sk-container-id-2 {color: black;background-color: white;}#sk-container-id-2 pre{padding: 0;}#sk-container-id-2 div.sk-toggleable {background-color: white;}#sk-container-id-2 label.sk-toggleable__label {cursor: pointer;display: block;width: 100%;margin-bottom: 0;padding: 0.3em;box-sizing: border-box;text-align: center;}#sk-container-id-2 label.sk-toggleable__label-arrow:before {content: \"▸\";float: left;margin-right: 0.25em;color: #696969;}#sk-container-id-2 label.sk-toggleable__label-arrow:hover:before {color: black;}#sk-container-id-2 div.sk-estimator:hover label.sk-toggleable__label-arrow:before {color: black;}#sk-container-id-2 div.sk-toggleable__content {max-height: 0;max-width: 0;overflow: hidden;text-align: left;background-color: #f0f8ff;}#sk-container-id-2 div.sk-toggleable__content pre {margin: 0.2em;color: black;border-radius: 0.25em;background-color: #f0f8ff;}#sk-container-id-2 input.sk-toggleable__control:checked~div.sk-toggleable__content {max-height: 200px;max-width: 100%;overflow: auto;}#sk-container-id-2 input.sk-toggleable__control:checked~label.sk-toggleable__label-arrow:before {content: \"▾\";}#sk-container-id-2 div.sk-estimator input.sk-toggleable__control:checked~label.sk-toggleable__label {background-color: #d4ebff;}#sk-container-id-2 div.sk-label input.sk-toggleable__control:checked~label.sk-toggleable__label {background-color: #d4ebff;}#sk-container-id-2 input.sk-hidden--visually {border: 0;clip: rect(1px 1px 1px 1px);clip: rect(1px, 1px, 1px, 1px);height: 1px;margin: -1px;overflow: hidden;padding: 0;position: absolute;width: 1px;}#sk-container-id-2 div.sk-estimator {font-family: monospace;background-color: #f0f8ff;border: 1px dotted black;border-radius: 0.25em;box-sizing: border-box;margin-bottom: 0.5em;}#sk-container-id-2 div.sk-estimator:hover {background-color: #d4ebff;}#sk-container-id-2 div.sk-parallel-item::after {content: \"\";width: 100%;border-bottom: 1px solid gray;flex-grow: 1;}#sk-container-id-2 div.sk-label:hover label.sk-toggleable__label {background-color: #d4ebff;}#sk-container-id-2 div.sk-serial::before {content: \"\";position: absolute;border-left: 1px solid gray;box-sizing: border-box;top: 0;bottom: 0;left: 50%;z-index: 0;}#sk-container-id-2 div.sk-serial {display: flex;flex-direction: column;align-items: center;background-color: white;padding-right: 0.2em;padding-left: 0.2em;position: relative;}#sk-container-id-2 div.sk-item {position: relative;z-index: 1;}#sk-container-id-2 div.sk-parallel {display: flex;align-items: stretch;justify-content: center;background-color: white;position: relative;}#sk-container-id-2 div.sk-item::before, #sk-container-id-2 div.sk-parallel-item::before {content: \"\";position: absolute;border-left: 1px solid gray;box-sizing: border-box;top: 0;bottom: 0;left: 50%;z-index: -1;}#sk-container-id-2 div.sk-parallel-item {display: flex;flex-direction: column;z-index: 1;position: relative;background-color: white;}#sk-container-id-2 div.sk-parallel-item:first-child::after {align-self: flex-end;width: 50%;}#sk-container-id-2 div.sk-parallel-item:last-child::after {align-self: flex-start;width: 50%;}#sk-container-id-2 div.sk-parallel-item:only-child::after {width: 0;}#sk-container-id-2 div.sk-dashed-wrapped {border: 1px dashed gray;margin: 0 0.4em 0.5em 0.4em;box-sizing: border-box;padding-bottom: 0.4em;background-color: white;}#sk-container-id-2 div.sk-label label {font-family: monospace;font-weight: bold;display: inline-block;line-height: 1.2em;}#sk-container-id-2 div.sk-label-container {text-align: center;}#sk-container-id-2 div.sk-container {/* jupyter's `normalize.less` sets `[hidden] { display: none; }` but bootstrap.min.css set `[hidden] { display: none !important; }` so we also need the `!important` here to be able to override the default hidden behavior on the sphinx rendered scikit-learn.org. See: https://github.com/scikit-learn/scikit-learn/issues/21755 */display: inline-block !important;position: relative;}#sk-container-id-2 div.sk-text-repr-fallback {display: none;}</style><div id=\"sk-container-id-2\" class=\"sk-top-container\"><div class=\"sk-text-repr-fallback\"><pre>GridSearchCV(estimator=KNeighborsClassifier(),\n",
       "             param_grid={&#x27;algorithm&#x27;: [&#x27;auto&#x27;, &#x27;ball_tree&#x27;, &#x27;kd_tree&#x27;, &#x27;brute&#x27;],\n",
       "                         &#x27;n_neighbors&#x27;: [2, 3, 4]})</pre><b>In a Jupyter environment, please rerun this cell to show the HTML representation or trust the notebook. <br />On GitHub, the HTML representation is unable to render, please try loading this page with nbviewer.org.</b></div><div class=\"sk-container\" hidden><div class=\"sk-item sk-dashed-wrapped\"><div class=\"sk-label-container\"><div class=\"sk-label sk-toggleable\"><input class=\"sk-toggleable__control sk-hidden--visually\" id=\"sk-estimator-id-4\" type=\"checkbox\" ><label for=\"sk-estimator-id-4\" class=\"sk-toggleable__label sk-toggleable__label-arrow\">GridSearchCV</label><div class=\"sk-toggleable__content\"><pre>GridSearchCV(estimator=KNeighborsClassifier(),\n",
       "             param_grid={&#x27;algorithm&#x27;: [&#x27;auto&#x27;, &#x27;ball_tree&#x27;, &#x27;kd_tree&#x27;, &#x27;brute&#x27;],\n",
       "                         &#x27;n_neighbors&#x27;: [2, 3, 4]})</pre></div></div></div><div class=\"sk-parallel\"><div class=\"sk-parallel-item\"><div class=\"sk-item\"><div class=\"sk-label-container\"><div class=\"sk-label sk-toggleable\"><input class=\"sk-toggleable__control sk-hidden--visually\" id=\"sk-estimator-id-5\" type=\"checkbox\" ><label for=\"sk-estimator-id-5\" class=\"sk-toggleable__label sk-toggleable__label-arrow\">estimator: KNeighborsClassifier</label><div class=\"sk-toggleable__content\"><pre>KNeighborsClassifier()</pre></div></div></div><div class=\"sk-serial\"><div class=\"sk-item\"><div class=\"sk-estimator sk-toggleable\"><input class=\"sk-toggleable__control sk-hidden--visually\" id=\"sk-estimator-id-6\" type=\"checkbox\" ><label for=\"sk-estimator-id-6\" class=\"sk-toggleable__label sk-toggleable__label-arrow\">KNeighborsClassifier</label><div class=\"sk-toggleable__content\"><pre>KNeighborsClassifier()</pre></div></div></div></div></div></div></div></div></div></div>"
      ],
      "text/plain": [
       "GridSearchCV(estimator=KNeighborsClassifier(),\n",
       "             param_grid={'algorithm': ['auto', 'ball_tree', 'kd_tree', 'brute'],\n",
       "                         'n_neighbors': [2, 3, 4]})"
      ]
     },
     "execution_count": 99,
     "metadata": {},
     "output_type": "execute_result"
    }
   ],
   "source": [
    "grid_knears.fit(X_train, y_train)"
   ]
  },
  {
   "cell_type": "code",
   "execution_count": 100,
   "id": "5307a2a6",
   "metadata": {},
   "outputs": [],
   "source": [
    "# Best parameters\n",
    "KNN=grid_knears.best_estimator_"
   ]
  },
  {
   "cell_type": "markdown",
   "id": "346b9aa9",
   "metadata": {},
   "source": [
    "__3- Tune Support Vector Classifier__"
   ]
  },
  {
   "cell_type": "code",
   "execution_count": 101,
   "id": "29a45405",
   "metadata": {},
   "outputs": [],
   "source": [
    "svc_params = {'C': [0.5, 0.7, 0.9, 1], 'kernel': ['rbf', 'poly', 'sigmoid', 'linear']}"
   ]
  },
  {
   "cell_type": "code",
   "execution_count": 102,
   "id": "b1c4ae6e",
   "metadata": {},
   "outputs": [],
   "source": [
    "grid_svc = GridSearchCV(SVC(), svc_params)"
   ]
  },
  {
   "cell_type": "code",
   "execution_count": 103,
   "id": "7942396b",
   "metadata": {},
   "outputs": [
    {
     "data": {
      "text/html": [
       "<style>#sk-container-id-3 {color: black;background-color: white;}#sk-container-id-3 pre{padding: 0;}#sk-container-id-3 div.sk-toggleable {background-color: white;}#sk-container-id-3 label.sk-toggleable__label {cursor: pointer;display: block;width: 100%;margin-bottom: 0;padding: 0.3em;box-sizing: border-box;text-align: center;}#sk-container-id-3 label.sk-toggleable__label-arrow:before {content: \"▸\";float: left;margin-right: 0.25em;color: #696969;}#sk-container-id-3 label.sk-toggleable__label-arrow:hover:before {color: black;}#sk-container-id-3 div.sk-estimator:hover label.sk-toggleable__label-arrow:before {color: black;}#sk-container-id-3 div.sk-toggleable__content {max-height: 0;max-width: 0;overflow: hidden;text-align: left;background-color: #f0f8ff;}#sk-container-id-3 div.sk-toggleable__content pre {margin: 0.2em;color: black;border-radius: 0.25em;background-color: #f0f8ff;}#sk-container-id-3 input.sk-toggleable__control:checked~div.sk-toggleable__content {max-height: 200px;max-width: 100%;overflow: auto;}#sk-container-id-3 input.sk-toggleable__control:checked~label.sk-toggleable__label-arrow:before {content: \"▾\";}#sk-container-id-3 div.sk-estimator input.sk-toggleable__control:checked~label.sk-toggleable__label {background-color: #d4ebff;}#sk-container-id-3 div.sk-label input.sk-toggleable__control:checked~label.sk-toggleable__label {background-color: #d4ebff;}#sk-container-id-3 input.sk-hidden--visually {border: 0;clip: rect(1px 1px 1px 1px);clip: rect(1px, 1px, 1px, 1px);height: 1px;margin: -1px;overflow: hidden;padding: 0;position: absolute;width: 1px;}#sk-container-id-3 div.sk-estimator {font-family: monospace;background-color: #f0f8ff;border: 1px dotted black;border-radius: 0.25em;box-sizing: border-box;margin-bottom: 0.5em;}#sk-container-id-3 div.sk-estimator:hover {background-color: #d4ebff;}#sk-container-id-3 div.sk-parallel-item::after {content: \"\";width: 100%;border-bottom: 1px solid gray;flex-grow: 1;}#sk-container-id-3 div.sk-label:hover label.sk-toggleable__label {background-color: #d4ebff;}#sk-container-id-3 div.sk-serial::before {content: \"\";position: absolute;border-left: 1px solid gray;box-sizing: border-box;top: 0;bottom: 0;left: 50%;z-index: 0;}#sk-container-id-3 div.sk-serial {display: flex;flex-direction: column;align-items: center;background-color: white;padding-right: 0.2em;padding-left: 0.2em;position: relative;}#sk-container-id-3 div.sk-item {position: relative;z-index: 1;}#sk-container-id-3 div.sk-parallel {display: flex;align-items: stretch;justify-content: center;background-color: white;position: relative;}#sk-container-id-3 div.sk-item::before, #sk-container-id-3 div.sk-parallel-item::before {content: \"\";position: absolute;border-left: 1px solid gray;box-sizing: border-box;top: 0;bottom: 0;left: 50%;z-index: -1;}#sk-container-id-3 div.sk-parallel-item {display: flex;flex-direction: column;z-index: 1;position: relative;background-color: white;}#sk-container-id-3 div.sk-parallel-item:first-child::after {align-self: flex-end;width: 50%;}#sk-container-id-3 div.sk-parallel-item:last-child::after {align-self: flex-start;width: 50%;}#sk-container-id-3 div.sk-parallel-item:only-child::after {width: 0;}#sk-container-id-3 div.sk-dashed-wrapped {border: 1px dashed gray;margin: 0 0.4em 0.5em 0.4em;box-sizing: border-box;padding-bottom: 0.4em;background-color: white;}#sk-container-id-3 div.sk-label label {font-family: monospace;font-weight: bold;display: inline-block;line-height: 1.2em;}#sk-container-id-3 div.sk-label-container {text-align: center;}#sk-container-id-3 div.sk-container {/* jupyter's `normalize.less` sets `[hidden] { display: none; }` but bootstrap.min.css set `[hidden] { display: none !important; }` so we also need the `!important` here to be able to override the default hidden behavior on the sphinx rendered scikit-learn.org. See: https://github.com/scikit-learn/scikit-learn/issues/21755 */display: inline-block !important;position: relative;}#sk-container-id-3 div.sk-text-repr-fallback {display: none;}</style><div id=\"sk-container-id-3\" class=\"sk-top-container\"><div class=\"sk-text-repr-fallback\"><pre>GridSearchCV(estimator=SVC(),\n",
       "             param_grid={&#x27;C&#x27;: [0.5, 0.7, 0.9, 1],\n",
       "                         &#x27;kernel&#x27;: [&#x27;rbf&#x27;, &#x27;poly&#x27;, &#x27;sigmoid&#x27;, &#x27;linear&#x27;]})</pre><b>In a Jupyter environment, please rerun this cell to show the HTML representation or trust the notebook. <br />On GitHub, the HTML representation is unable to render, please try loading this page with nbviewer.org.</b></div><div class=\"sk-container\" hidden><div class=\"sk-item sk-dashed-wrapped\"><div class=\"sk-label-container\"><div class=\"sk-label sk-toggleable\"><input class=\"sk-toggleable__control sk-hidden--visually\" id=\"sk-estimator-id-7\" type=\"checkbox\" ><label for=\"sk-estimator-id-7\" class=\"sk-toggleable__label sk-toggleable__label-arrow\">GridSearchCV</label><div class=\"sk-toggleable__content\"><pre>GridSearchCV(estimator=SVC(),\n",
       "             param_grid={&#x27;C&#x27;: [0.5, 0.7, 0.9, 1],\n",
       "                         &#x27;kernel&#x27;: [&#x27;rbf&#x27;, &#x27;poly&#x27;, &#x27;sigmoid&#x27;, &#x27;linear&#x27;]})</pre></div></div></div><div class=\"sk-parallel\"><div class=\"sk-parallel-item\"><div class=\"sk-item\"><div class=\"sk-label-container\"><div class=\"sk-label sk-toggleable\"><input class=\"sk-toggleable__control sk-hidden--visually\" id=\"sk-estimator-id-8\" type=\"checkbox\" ><label for=\"sk-estimator-id-8\" class=\"sk-toggleable__label sk-toggleable__label-arrow\">estimator: SVC</label><div class=\"sk-toggleable__content\"><pre>SVC()</pre></div></div></div><div class=\"sk-serial\"><div class=\"sk-item\"><div class=\"sk-estimator sk-toggleable\"><input class=\"sk-toggleable__control sk-hidden--visually\" id=\"sk-estimator-id-9\" type=\"checkbox\" ><label for=\"sk-estimator-id-9\" class=\"sk-toggleable__label sk-toggleable__label-arrow\">SVC</label><div class=\"sk-toggleable__content\"><pre>SVC()</pre></div></div></div></div></div></div></div></div></div></div>"
      ],
      "text/plain": [
       "GridSearchCV(estimator=SVC(),\n",
       "             param_grid={'C': [0.5, 0.7, 0.9, 1],\n",
       "                         'kernel': ['rbf', 'poly', 'sigmoid', 'linear']})"
      ]
     },
     "execution_count": 103,
     "metadata": {},
     "output_type": "execute_result"
    }
   ],
   "source": [
    "grid_svc.fit(X_train, y_train)"
   ]
  },
  {
   "cell_type": "code",
   "execution_count": 104,
   "id": "4688db9c",
   "metadata": {},
   "outputs": [],
   "source": [
    "# Best parameters\n",
    "svc=grid_svc.best_estimator_"
   ]
  },
  {
   "cell_type": "markdown",
   "id": "e81b3721",
   "metadata": {},
   "source": [
    "__4-Tune Desicion Tree__"
   ]
  },
  {
   "cell_type": "code",
   "execution_count": 105,
   "id": "7c6b1248",
   "metadata": {},
   "outputs": [],
   "source": [
    "tree_params = {\"criterion\": [\"gini\", \"entropy\"], \"max_depth\": list(range(2,4,1)), \n",
    "              \"min_samples_leaf\": list(range(5,7,1))}"
   ]
  },
  {
   "cell_type": "code",
   "execution_count": 106,
   "id": "e40e02ee",
   "metadata": {},
   "outputs": [],
   "source": [
    "grid_tree = GridSearchCV(DecisionTreeClassifier(), tree_params)"
   ]
  },
  {
   "cell_type": "code",
   "execution_count": 107,
   "id": "1a7846a4",
   "metadata": {},
   "outputs": [
    {
     "data": {
      "text/html": [
       "<style>#sk-container-id-4 {color: black;background-color: white;}#sk-container-id-4 pre{padding: 0;}#sk-container-id-4 div.sk-toggleable {background-color: white;}#sk-container-id-4 label.sk-toggleable__label {cursor: pointer;display: block;width: 100%;margin-bottom: 0;padding: 0.3em;box-sizing: border-box;text-align: center;}#sk-container-id-4 label.sk-toggleable__label-arrow:before {content: \"▸\";float: left;margin-right: 0.25em;color: #696969;}#sk-container-id-4 label.sk-toggleable__label-arrow:hover:before {color: black;}#sk-container-id-4 div.sk-estimator:hover label.sk-toggleable__label-arrow:before {color: black;}#sk-container-id-4 div.sk-toggleable__content {max-height: 0;max-width: 0;overflow: hidden;text-align: left;background-color: #f0f8ff;}#sk-container-id-4 div.sk-toggleable__content pre {margin: 0.2em;color: black;border-radius: 0.25em;background-color: #f0f8ff;}#sk-container-id-4 input.sk-toggleable__control:checked~div.sk-toggleable__content {max-height: 200px;max-width: 100%;overflow: auto;}#sk-container-id-4 input.sk-toggleable__control:checked~label.sk-toggleable__label-arrow:before {content: \"▾\";}#sk-container-id-4 div.sk-estimator input.sk-toggleable__control:checked~label.sk-toggleable__label {background-color: #d4ebff;}#sk-container-id-4 div.sk-label input.sk-toggleable__control:checked~label.sk-toggleable__label {background-color: #d4ebff;}#sk-container-id-4 input.sk-hidden--visually {border: 0;clip: rect(1px 1px 1px 1px);clip: rect(1px, 1px, 1px, 1px);height: 1px;margin: -1px;overflow: hidden;padding: 0;position: absolute;width: 1px;}#sk-container-id-4 div.sk-estimator {font-family: monospace;background-color: #f0f8ff;border: 1px dotted black;border-radius: 0.25em;box-sizing: border-box;margin-bottom: 0.5em;}#sk-container-id-4 div.sk-estimator:hover {background-color: #d4ebff;}#sk-container-id-4 div.sk-parallel-item::after {content: \"\";width: 100%;border-bottom: 1px solid gray;flex-grow: 1;}#sk-container-id-4 div.sk-label:hover label.sk-toggleable__label {background-color: #d4ebff;}#sk-container-id-4 div.sk-serial::before {content: \"\";position: absolute;border-left: 1px solid gray;box-sizing: border-box;top: 0;bottom: 0;left: 50%;z-index: 0;}#sk-container-id-4 div.sk-serial {display: flex;flex-direction: column;align-items: center;background-color: white;padding-right: 0.2em;padding-left: 0.2em;position: relative;}#sk-container-id-4 div.sk-item {position: relative;z-index: 1;}#sk-container-id-4 div.sk-parallel {display: flex;align-items: stretch;justify-content: center;background-color: white;position: relative;}#sk-container-id-4 div.sk-item::before, #sk-container-id-4 div.sk-parallel-item::before {content: \"\";position: absolute;border-left: 1px solid gray;box-sizing: border-box;top: 0;bottom: 0;left: 50%;z-index: -1;}#sk-container-id-4 div.sk-parallel-item {display: flex;flex-direction: column;z-index: 1;position: relative;background-color: white;}#sk-container-id-4 div.sk-parallel-item:first-child::after {align-self: flex-end;width: 50%;}#sk-container-id-4 div.sk-parallel-item:last-child::after {align-self: flex-start;width: 50%;}#sk-container-id-4 div.sk-parallel-item:only-child::after {width: 0;}#sk-container-id-4 div.sk-dashed-wrapped {border: 1px dashed gray;margin: 0 0.4em 0.5em 0.4em;box-sizing: border-box;padding-bottom: 0.4em;background-color: white;}#sk-container-id-4 div.sk-label label {font-family: monospace;font-weight: bold;display: inline-block;line-height: 1.2em;}#sk-container-id-4 div.sk-label-container {text-align: center;}#sk-container-id-4 div.sk-container {/* jupyter's `normalize.less` sets `[hidden] { display: none; }` but bootstrap.min.css set `[hidden] { display: none !important; }` so we also need the `!important` here to be able to override the default hidden behavior on the sphinx rendered scikit-learn.org. See: https://github.com/scikit-learn/scikit-learn/issues/21755 */display: inline-block !important;position: relative;}#sk-container-id-4 div.sk-text-repr-fallback {display: none;}</style><div id=\"sk-container-id-4\" class=\"sk-top-container\"><div class=\"sk-text-repr-fallback\"><pre>GridSearchCV(estimator=DecisionTreeClassifier(),\n",
       "             param_grid={&#x27;criterion&#x27;: [&#x27;gini&#x27;, &#x27;entropy&#x27;], &#x27;max_depth&#x27;: [2, 3],\n",
       "                         &#x27;min_samples_leaf&#x27;: [5, 6]})</pre><b>In a Jupyter environment, please rerun this cell to show the HTML representation or trust the notebook. <br />On GitHub, the HTML representation is unable to render, please try loading this page with nbviewer.org.</b></div><div class=\"sk-container\" hidden><div class=\"sk-item sk-dashed-wrapped\"><div class=\"sk-label-container\"><div class=\"sk-label sk-toggleable\"><input class=\"sk-toggleable__control sk-hidden--visually\" id=\"sk-estimator-id-10\" type=\"checkbox\" ><label for=\"sk-estimator-id-10\" class=\"sk-toggleable__label sk-toggleable__label-arrow\">GridSearchCV</label><div class=\"sk-toggleable__content\"><pre>GridSearchCV(estimator=DecisionTreeClassifier(),\n",
       "             param_grid={&#x27;criterion&#x27;: [&#x27;gini&#x27;, &#x27;entropy&#x27;], &#x27;max_depth&#x27;: [2, 3],\n",
       "                         &#x27;min_samples_leaf&#x27;: [5, 6]})</pre></div></div></div><div class=\"sk-parallel\"><div class=\"sk-parallel-item\"><div class=\"sk-item\"><div class=\"sk-label-container\"><div class=\"sk-label sk-toggleable\"><input class=\"sk-toggleable__control sk-hidden--visually\" id=\"sk-estimator-id-11\" type=\"checkbox\" ><label for=\"sk-estimator-id-11\" class=\"sk-toggleable__label sk-toggleable__label-arrow\">estimator: DecisionTreeClassifier</label><div class=\"sk-toggleable__content\"><pre>DecisionTreeClassifier()</pre></div></div></div><div class=\"sk-serial\"><div class=\"sk-item\"><div class=\"sk-estimator sk-toggleable\"><input class=\"sk-toggleable__control sk-hidden--visually\" id=\"sk-estimator-id-12\" type=\"checkbox\" ><label for=\"sk-estimator-id-12\" class=\"sk-toggleable__label sk-toggleable__label-arrow\">DecisionTreeClassifier</label><div class=\"sk-toggleable__content\"><pre>DecisionTreeClassifier()</pre></div></div></div></div></div></div></div></div></div></div>"
      ],
      "text/plain": [
       "GridSearchCV(estimator=DecisionTreeClassifier(),\n",
       "             param_grid={'criterion': ['gini', 'entropy'], 'max_depth': [2, 3],\n",
       "                         'min_samples_leaf': [5, 6]})"
      ]
     },
     "execution_count": 107,
     "metadata": {},
     "output_type": "execute_result"
    }
   ],
   "source": [
    "grid_tree.fit(X_train, y_train)\n"
   ]
  },
  {
   "cell_type": "code",
   "execution_count": 108,
   "id": "bdaf3e14",
   "metadata": {},
   "outputs": [],
   "source": [
    "tree_clf = grid_tree.best_estimator_"
   ]
  },
  {
   "cell_type": "markdown",
   "id": "b68f71b9",
   "metadata": {},
   "source": [
    "__Evaluating the tuned models__"
   ]
  },
  {
   "cell_type": "code",
   "execution_count": 109,
   "id": "dbd391df",
   "metadata": {},
   "outputs": [
    {
     "name": "stdout",
     "output_type": "stream",
     "text": [
      "Logistic Regression Cross Validation Score:  94.6%\n"
     ]
    }
   ],
   "source": [
    "log_reg_score = cross_val_score(log_reg, X_train, y_train, cv=5)\n",
    "print('Logistic Regression Cross Validation Score: ', round(log_reg_score.mean() * 100, 2).astype(str) + '%')"
   ]
  },
  {
   "cell_type": "code",
   "execution_count": 110,
   "id": "0d576315",
   "metadata": {},
   "outputs": [
    {
     "name": "stdout",
     "output_type": "stream",
     "text": [
      "Knears Neighbors Cross Validation Score 93.66%\n"
     ]
    }
   ],
   "source": [
    "knears_score = cross_val_score(KNN, X_train, y_train, cv=5)\n",
    "print('Knears Neighbors Cross Validation Score', round(knears_score.mean() * 100, 2).astype(str) + '%')"
   ]
  },
  {
   "cell_type": "code",
   "execution_count": 111,
   "id": "2d6f4268",
   "metadata": {},
   "outputs": [
    {
     "name": "stdout",
     "output_type": "stream",
     "text": [
      "Support Vector Classifier Cross Validation Score 94.41%\n"
     ]
    }
   ],
   "source": [
    "svc_score = cross_val_score(svc, X_train, y_train, cv=5)\n",
    "print('Support Vector Classifier Cross Validation Score', round(svc_score.mean() * 100, 2).astype(str) + '%')"
   ]
  },
  {
   "cell_type": "code",
   "execution_count": 112,
   "id": "6d80bb61",
   "metadata": {},
   "outputs": [
    {
     "name": "stdout",
     "output_type": "stream",
     "text": [
      "DecisionTree Classifier Cross Validation Score 93.66%\n"
     ]
    }
   ],
   "source": [
    "tree_score = cross_val_score(tree_clf, X_train, y_train, cv=5)\n",
    "print('DecisionTree Classifier Cross Validation Score', round(tree_score.mean() * 100, 2).astype(str) + '%')"
   ]
  },
  {
   "cell_type": "markdown",
   "id": "bca33cfb",
   "metadata": {},
   "source": [
    "__AS we can see, logistic regression got the best accuracy__"
   ]
  },
  {
   "cell_type": "markdown",
   "id": "ded3fcf1",
   "metadata": {},
   "source": [
    "## 2- Undersample using NearMiss Algorithm\n",
    "Near-miss is an algorithm that can help in balancing an imbalanced dataset. It can be grouped under undersampling algorithms and is an efficient way to balance the data. The algorithm does this by looking at the class distribution and randomly eliminating samples from the larger class. When two points belonging to different classes are very close to each other in the distribution, this algorithm eliminates the datapoint of the larger class thereby trying to balance the distribution. "
   ]
  },
  {
   "cell_type": "code",
   "execution_count": 145,
   "id": "0d2a9b95",
   "metadata": {
    "scrolled": true
   },
   "outputs": [],
   "source": [
    "# We will undersample during cross validating\n",
    "undersample_X = train.drop('Class', axis=1)\n",
    "undersample_y = train['Class']"
   ]
  },
  {
   "cell_type": "markdown",
   "id": "ecc9d0a3",
   "metadata": {},
   "source": [
    "__Implementing NearMiss Technique__"
   ]
  },
  {
   "cell_type": "code",
   "execution_count": 146,
   "id": "18d6f8fa",
   "metadata": {},
   "outputs": [],
   "source": [
    "from imblearn.under_sampling import NearMiss\n",
    "from collections import Counter"
   ]
  },
  {
   "cell_type": "code",
   "execution_count": 147,
   "id": "3c1748ce",
   "metadata": {},
   "outputs": [],
   "source": [
    "#Distribution of NearMiss (Just to see how it distributes the labels we won't use these variables)\n",
    "\n",
    "X_nearmiss, y_nearmiss = NearMiss().fit_resample(undersample_X.values, undersample_y.values)"
   ]
  },
  {
   "cell_type": "code",
   "execution_count": 148,
   "id": "347f1f7f",
   "metadata": {},
   "outputs": [
    {
     "name": "stdout",
     "output_type": "stream",
     "text": [
      "NearMiss Label Distribution: Counter({0: 343, 1: 343})\n"
     ]
    }
   ],
   "source": [
    "print('NearMiss Label Distribution: {}'.format(Counter(y_nearmiss)))"
   ]
  },
  {
   "cell_type": "code",
   "execution_count": 149,
   "id": "362efc9c",
   "metadata": {},
   "outputs": [],
   "source": [
    "X_train, X_test, y_train, y_test = train_test_split(X_nearmiss, y_nearmiss, test_size=0.2)"
   ]
  },
  {
   "cell_type": "code",
   "execution_count": 150,
   "id": "295f6650",
   "metadata": {},
   "outputs": [
    {
     "name": "stdout",
     "output_type": "stream",
     "text": [
      "the training accuracy for :  LogisticRegression() is :  96.0 %\n",
      "the training accuracy for :  KNeighborsClassifier() is :  94.0 %\n",
      "the training accuracy for :  SVC() is :  93.0 %\n",
      "the training accuracy for :  DecisionTreeClassifier() is :  93.0 %\n"
     ]
    }
   ],
   "source": [
    "for key,classifier in classifiers.items():\n",
    "    classifier.fit(X_train,y_train)\n",
    "    training_score = cross_val_score(classifier, X_train, y_train, cv=5)\n",
    "    print('the training accuracy for : ',classifier, 'is : ',round(training_score.mean(), 2) * 100,\"%\")"
   ]
  },
  {
   "cell_type": "code",
   "execution_count": 151,
   "id": "779df017",
   "metadata": {},
   "outputs": [],
   "source": [
    "log_reg_params = {\"penalty\": ['l1', 'l2'], 'C': [0.001, 0.01, 0.1, 1, 10, 100, 1000]}"
   ]
  },
  {
   "cell_type": "code",
   "execution_count": 152,
   "id": "a9d2c4b6",
   "metadata": {},
   "outputs": [],
   "source": [
    "grid_log_reg = GridSearchCV(LogisticRegression(), log_reg_params)"
   ]
  },
  {
   "cell_type": "code",
   "execution_count": 153,
   "id": "d32d2ef5",
   "metadata": {},
   "outputs": [
    {
     "data": {
      "text/html": [
       "<style>#sk-container-id-5 {color: black;background-color: white;}#sk-container-id-5 pre{padding: 0;}#sk-container-id-5 div.sk-toggleable {background-color: white;}#sk-container-id-5 label.sk-toggleable__label {cursor: pointer;display: block;width: 100%;margin-bottom: 0;padding: 0.3em;box-sizing: border-box;text-align: center;}#sk-container-id-5 label.sk-toggleable__label-arrow:before {content: \"▸\";float: left;margin-right: 0.25em;color: #696969;}#sk-container-id-5 label.sk-toggleable__label-arrow:hover:before {color: black;}#sk-container-id-5 div.sk-estimator:hover label.sk-toggleable__label-arrow:before {color: black;}#sk-container-id-5 div.sk-toggleable__content {max-height: 0;max-width: 0;overflow: hidden;text-align: left;background-color: #f0f8ff;}#sk-container-id-5 div.sk-toggleable__content pre {margin: 0.2em;color: black;border-radius: 0.25em;background-color: #f0f8ff;}#sk-container-id-5 input.sk-toggleable__control:checked~div.sk-toggleable__content {max-height: 200px;max-width: 100%;overflow: auto;}#sk-container-id-5 input.sk-toggleable__control:checked~label.sk-toggleable__label-arrow:before {content: \"▾\";}#sk-container-id-5 div.sk-estimator input.sk-toggleable__control:checked~label.sk-toggleable__label {background-color: #d4ebff;}#sk-container-id-5 div.sk-label input.sk-toggleable__control:checked~label.sk-toggleable__label {background-color: #d4ebff;}#sk-container-id-5 input.sk-hidden--visually {border: 0;clip: rect(1px 1px 1px 1px);clip: rect(1px, 1px, 1px, 1px);height: 1px;margin: -1px;overflow: hidden;padding: 0;position: absolute;width: 1px;}#sk-container-id-5 div.sk-estimator {font-family: monospace;background-color: #f0f8ff;border: 1px dotted black;border-radius: 0.25em;box-sizing: border-box;margin-bottom: 0.5em;}#sk-container-id-5 div.sk-estimator:hover {background-color: #d4ebff;}#sk-container-id-5 div.sk-parallel-item::after {content: \"\";width: 100%;border-bottom: 1px solid gray;flex-grow: 1;}#sk-container-id-5 div.sk-label:hover label.sk-toggleable__label {background-color: #d4ebff;}#sk-container-id-5 div.sk-serial::before {content: \"\";position: absolute;border-left: 1px solid gray;box-sizing: border-box;top: 0;bottom: 0;left: 50%;z-index: 0;}#sk-container-id-5 div.sk-serial {display: flex;flex-direction: column;align-items: center;background-color: white;padding-right: 0.2em;padding-left: 0.2em;position: relative;}#sk-container-id-5 div.sk-item {position: relative;z-index: 1;}#sk-container-id-5 div.sk-parallel {display: flex;align-items: stretch;justify-content: center;background-color: white;position: relative;}#sk-container-id-5 div.sk-item::before, #sk-container-id-5 div.sk-parallel-item::before {content: \"\";position: absolute;border-left: 1px solid gray;box-sizing: border-box;top: 0;bottom: 0;left: 50%;z-index: -1;}#sk-container-id-5 div.sk-parallel-item {display: flex;flex-direction: column;z-index: 1;position: relative;background-color: white;}#sk-container-id-5 div.sk-parallel-item:first-child::after {align-self: flex-end;width: 50%;}#sk-container-id-5 div.sk-parallel-item:last-child::after {align-self: flex-start;width: 50%;}#sk-container-id-5 div.sk-parallel-item:only-child::after {width: 0;}#sk-container-id-5 div.sk-dashed-wrapped {border: 1px dashed gray;margin: 0 0.4em 0.5em 0.4em;box-sizing: border-box;padding-bottom: 0.4em;background-color: white;}#sk-container-id-5 div.sk-label label {font-family: monospace;font-weight: bold;display: inline-block;line-height: 1.2em;}#sk-container-id-5 div.sk-label-container {text-align: center;}#sk-container-id-5 div.sk-container {/* jupyter's `normalize.less` sets `[hidden] { display: none; }` but bootstrap.min.css set `[hidden] { display: none !important; }` so we also need the `!important` here to be able to override the default hidden behavior on the sphinx rendered scikit-learn.org. See: https://github.com/scikit-learn/scikit-learn/issues/21755 */display: inline-block !important;position: relative;}#sk-container-id-5 div.sk-text-repr-fallback {display: none;}</style><div id=\"sk-container-id-5\" class=\"sk-top-container\"><div class=\"sk-text-repr-fallback\"><pre>GridSearchCV(estimator=LogisticRegression(),\n",
       "             param_grid={&#x27;C&#x27;: [0.001, 0.01, 0.1, 1, 10, 100, 1000],\n",
       "                         &#x27;penalty&#x27;: [&#x27;l1&#x27;, &#x27;l2&#x27;]})</pre><b>In a Jupyter environment, please rerun this cell to show the HTML representation or trust the notebook. <br />On GitHub, the HTML representation is unable to render, please try loading this page with nbviewer.org.</b></div><div class=\"sk-container\" hidden><div class=\"sk-item sk-dashed-wrapped\"><div class=\"sk-label-container\"><div class=\"sk-label sk-toggleable\"><input class=\"sk-toggleable__control sk-hidden--visually\" id=\"sk-estimator-id-13\" type=\"checkbox\" ><label for=\"sk-estimator-id-13\" class=\"sk-toggleable__label sk-toggleable__label-arrow\">GridSearchCV</label><div class=\"sk-toggleable__content\"><pre>GridSearchCV(estimator=LogisticRegression(),\n",
       "             param_grid={&#x27;C&#x27;: [0.001, 0.01, 0.1, 1, 10, 100, 1000],\n",
       "                         &#x27;penalty&#x27;: [&#x27;l1&#x27;, &#x27;l2&#x27;]})</pre></div></div></div><div class=\"sk-parallel\"><div class=\"sk-parallel-item\"><div class=\"sk-item\"><div class=\"sk-label-container\"><div class=\"sk-label sk-toggleable\"><input class=\"sk-toggleable__control sk-hidden--visually\" id=\"sk-estimator-id-14\" type=\"checkbox\" ><label for=\"sk-estimator-id-14\" class=\"sk-toggleable__label sk-toggleable__label-arrow\">estimator: LogisticRegression</label><div class=\"sk-toggleable__content\"><pre>LogisticRegression()</pre></div></div></div><div class=\"sk-serial\"><div class=\"sk-item\"><div class=\"sk-estimator sk-toggleable\"><input class=\"sk-toggleable__control sk-hidden--visually\" id=\"sk-estimator-id-15\" type=\"checkbox\" ><label for=\"sk-estimator-id-15\" class=\"sk-toggleable__label sk-toggleable__label-arrow\">LogisticRegression</label><div class=\"sk-toggleable__content\"><pre>LogisticRegression()</pre></div></div></div></div></div></div></div></div></div></div>"
      ],
      "text/plain": [
       "GridSearchCV(estimator=LogisticRegression(),\n",
       "             param_grid={'C': [0.001, 0.01, 0.1, 1, 10, 100, 1000],\n",
       "                         'penalty': ['l1', 'l2']})"
      ]
     },
     "execution_count": 153,
     "metadata": {},
     "output_type": "execute_result"
    }
   ],
   "source": [
    "grid_log_reg.fit(X_train, y_train)"
   ]
  },
  {
   "cell_type": "code",
   "execution_count": 154,
   "id": "b0426917",
   "metadata": {},
   "outputs": [],
   "source": [
    "# Best parameters\n",
    "log_reg=grid_log_reg.best_estimator_"
   ]
  },
  {
   "cell_type": "code",
   "execution_count": 155,
   "id": "8c360fc4",
   "metadata": {},
   "outputs": [
    {
     "name": "stdout",
     "output_type": "stream",
     "text": [
      "Logistic Regression Cross Validation Score:  95.62%\n"
     ]
    }
   ],
   "source": [
    "log_reg_score = cross_val_score(log_reg, X_train, y_train, cv=5)\n",
    "print('Logistic Regression Cross Validation Score: ', round(log_reg_score.mean() * 100, 2).astype(str) + '%')"
   ]
  },
  {
   "cell_type": "code",
   "execution_count": 156,
   "id": "c71f2460",
   "metadata": {},
   "outputs": [],
   "source": [
    "log_pred = log_reg.predict(X_test)"
   ]
  },
  {
   "cell_type": "code",
   "execution_count": 157,
   "id": "d9e3aba4",
   "metadata": {},
   "outputs": [],
   "source": [
    "from sklearn.metrics import accuracy_score,confusion_matrix,classification_report,plot_confusion_matrix,recall_score, precision_score, f1_score"
   ]
  },
  {
   "cell_type": "code",
   "execution_count": 158,
   "id": "19c7b6dc",
   "metadata": {},
   "outputs": [
    {
     "data": {
      "text/plain": [
       "<sklearn.metrics._plot.confusion_matrix.ConfusionMatrixDisplay at 0x21524c055e0>"
      ]
     },
     "execution_count": 158,
     "metadata": {},
     "output_type": "execute_result"
    },
    {
     "data": {
      "image/png": "[encoded data removed]",
      "text/plain": [
       "<Figure size 432x288 with 2 Axes>"
      ]
     },
     "metadata": {
      "needs_background": "light"
     },
     "output_type": "display_data"
    }
   ],
   "source": [
    "#confusion matrix\n",
    "plot_confusion_matrix(log_reg,X_test,y_test)"
   ]
  },
  {
   "cell_type": "code",
   "execution_count": 159,
   "id": "c11c62d4",
   "metadata": {},
   "outputs": [
    {
     "name": "stdout",
     "output_type": "stream",
     "text": [
      "              precision    recall  f1-score   support\n",
      "\n",
      "           0       0.93      0.99      0.96        68\n",
      "           1       0.98      0.93      0.96        70\n",
      "\n",
      "    accuracy                           0.96       138\n",
      "   macro avg       0.96      0.96      0.96       138\n",
      "weighted avg       0.96      0.96      0.96       138\n",
      "\n"
     ]
    }
   ],
   "source": [
    "print(classification_report(y_test,log_pred))"
   ]
  },
  {
   "cell_type": "markdown",
   "id": "04132d8c",
   "metadata": {},
   "source": [
    "## 3- SMOTE"
   ]
  },
  {
   "cell_type": "code",
   "execution_count": 169,
   "id": "60d9060b",
   "metadata": {},
   "outputs": [],
   "source": [
    "# We will undersample during cross validating\n",
    "oversample_X = train.drop('Class', axis=1)\n",
    "oversample_y = train['Class']"
   ]
  },
  {
   "cell_type": "code",
   "execution_count": 170,
   "id": "28d1984a",
   "metadata": {},
   "outputs": [],
   "source": [
    "from imblearn.over_sampling import SMOTE"
   ]
  },
  {
   "cell_type": "code",
   "execution_count": 171,
   "id": "8c252fc9",
   "metadata": {},
   "outputs": [],
   "source": [
    "X_SMOTE, y_SMOTE = SMOTE().fit_resample(oversample_X.values, oversample_y.values)"
   ]
  },
  {
   "cell_type": "code",
   "execution_count": 175,
   "id": "27610bc5",
   "metadata": {},
   "outputs": [
    {
     "name": "stdout",
     "output_type": "stream",
     "text": [
      "SMOTE Label Distribution: Counter({0: 199021, 1: 199021})\n"
     ]
    }
   ],
   "source": [
    "print('SMOTE Label Distribution: {}'.format(Counter(y_SMOTE)))"
   ]
  },
  {
   "cell_type": "code",
   "execution_count": 173,
   "id": "6271cf3f",
   "metadata": {},
   "outputs": [],
   "source": [
    "X_train, X_test, y_train, y_test = train_test_split(X_SMOTE, y_SMOTE, test_size=0.2)"
   ]
  },
  {
   "cell_type": "code",
   "execution_count": 174,
   "id": "0236ed95",
   "metadata": {},
   "outputs": [
    {
     "name": "stdout",
     "output_type": "stream",
     "text": [
      "the training accuracy for :  LogisticRegression() is :  95.0 %\n",
      "the training accuracy for :  KNeighborsClassifier() is :  100.0 %\n",
      "the training accuracy for :  SVC() is :  98.0 %\n",
      "the training accuracy for :  DecisionTreeClassifier() is :  100.0 %\n"
     ]
    }
   ],
   "source": [
    "for key,classifier in classifiers.items():\n",
    "    classifier.fit(X_train,y_train)\n",
    "    training_score = cross_val_score(classifier, X_train, y_train, cv=5)\n",
    "    print('the training accuracy for : ',classifier, 'is : ',round(training_score.mean(), 2) * 100,\"%\")"
   ]
  },
  {
   "cell_type": "code",
   "execution_count": 177,
   "id": "6841ecbc",
   "metadata": {},
   "outputs": [],
   "source": [
    "log_reg_params = {\"penalty\": ['l1', 'l2'], 'C': [0.001, 0.01, 0.1, 1, 10, 100, 1000]}"
   ]
  },
  {
   "cell_type": "code",
   "execution_count": 178,
   "id": "01bfd843",
   "metadata": {},
   "outputs": [],
   "source": [
    "grid_log_reg = GridSearchCV(LogisticRegression(), log_reg_params)"
   ]
  },
  {
   "cell_type": "code",
   "execution_count": 179,
   "id": "73827472",
   "metadata": {},
   "outputs": [
    {
     "data": {
      "text/html": [
       "<style>#sk-container-id-6 {color: black;background-color: white;}#sk-container-id-6 pre{padding: 0;}#sk-container-id-6 div.sk-toggleable {background-color: white;}#sk-container-id-6 label.sk-toggleable__label {cursor: pointer;display: block;width: 100%;margin-bottom: 0;padding: 0.3em;box-sizing: border-box;text-align: center;}#sk-container-id-6 label.sk-toggleable__label-arrow:before {content: \"▸\";float: left;margin-right: 0.25em;color: #696969;}#sk-container-id-6 label.sk-toggleable__label-arrow:hover:before {color: black;}#sk-container-id-6 div.sk-estimator:hover label.sk-toggleable__label-arrow:before {color: black;}#sk-container-id-6 div.sk-toggleable__content {max-height: 0;max-width: 0;overflow: hidden;text-align: left;background-color: #f0f8ff;}#sk-container-id-6 div.sk-toggleable__content pre {margin: 0.2em;color: black;border-radius: 0.25em;background-color: #f0f8ff;}#sk-container-id-6 input.sk-toggleable__control:checked~div.sk-toggleable__content {max-height: 200px;max-width: 100%;overflow: auto;}#sk-container-id-6 input.sk-toggleable__control:checked~label.sk-toggleable__label-arrow:before {content: \"▾\";}#sk-container-id-6 div.sk-estimator input.sk-toggleable__control:checked~label.sk-toggleable__label {background-color: #d4ebff;}#sk-container-id-6 div.sk-label input.sk-toggleable__control:checked~label.sk-toggleable__label {background-color: #d4ebff;}#sk-container-id-6 input.sk-hidden--visually {border: 0;clip: rect(1px 1px 1px 1px);clip: rect(1px, 1px, 1px, 1px);height: 1px;margin: -1px;overflow: hidden;padding: 0;position: absolute;width: 1px;}#sk-container-id-6 div.sk-estimator {font-family: monospace;background-color: #f0f8ff;border: 1px dotted black;border-radius: 0.25em;box-sizing: border-box;margin-bottom: 0.5em;}#sk-container-id-6 div.sk-estimator:hover {background-color: #d4ebff;}#sk-container-id-6 div.sk-parallel-item::after {content: \"\";width: 100%;border-bottom: 1px solid gray;flex-grow: 1;}#sk-container-id-6 div.sk-label:hover label.sk-toggleable__label {background-color: #d4ebff;}#sk-container-id-6 div.sk-serial::before {content: \"\";position: absolute;border-left: 1px solid gray;box-sizing: border-box;top: 0;bottom: 0;left: 50%;z-index: 0;}#sk-container-id-6 div.sk-serial {display: flex;flex-direction: column;align-items: center;background-color: white;padding-right: 0.2em;padding-left: 0.2em;position: relative;}#sk-container-id-6 div.sk-item {position: relative;z-index: 1;}#sk-container-id-6 div.sk-parallel {display: flex;align-items: stretch;justify-content: center;background-color: white;position: relative;}#sk-container-id-6 div.sk-item::before, #sk-container-id-6 div.sk-parallel-item::before {content: \"\";position: absolute;border-left: 1px solid gray;box-sizing: border-box;top: 0;bottom: 0;left: 50%;z-index: -1;}#sk-container-id-6 div.sk-parallel-item {display: flex;flex-direction: column;z-index: 1;position: relative;background-color: white;}#sk-container-id-6 div.sk-parallel-item:first-child::after {align-self: flex-end;width: 50%;}#sk-container-id-6 div.sk-parallel-item:last-child::after {align-self: flex-start;width: 50%;}#sk-container-id-6 div.sk-parallel-item:only-child::after {width: 0;}#sk-container-id-6 div.sk-dashed-wrapped {border: 1px dashed gray;margin: 0 0.4em 0.5em 0.4em;box-sizing: border-box;padding-bottom: 0.4em;background-color: white;}#sk-container-id-6 div.sk-label label {font-family: monospace;font-weight: bold;display: inline-block;line-height: 1.2em;}#sk-container-id-6 div.sk-label-container {text-align: center;}#sk-container-id-6 div.sk-container {/* jupyter's `normalize.less` sets `[hidden] { display: none; }` but bootstrap.min.css set `[hidden] { display: none !important; }` so we also need the `!important` here to be able to override the default hidden behavior on the sphinx rendered scikit-learn.org. See: https://github.com/scikit-learn/scikit-learn/issues/21755 */display: inline-block !important;position: relative;}#sk-container-id-6 div.sk-text-repr-fallback {display: none;}</style><div id=\"sk-container-id-6\" class=\"sk-top-container\"><div class=\"sk-text-repr-fallback\"><pre>GridSearchCV(estimator=LogisticRegression(),\n",
       "             param_grid={&#x27;C&#x27;: [0.001, 0.01, 0.1, 1, 10, 100, 1000],\n",
       "                         &#x27;penalty&#x27;: [&#x27;l1&#x27;, &#x27;l2&#x27;]})</pre><b>In a Jupyter environment, please rerun this cell to show the HTML representation or trust the notebook. <br />On GitHub, the HTML representation is unable to render, please try loading this page with nbviewer.org.</b></div><div class=\"sk-container\" hidden><div class=\"sk-item sk-dashed-wrapped\"><div class=\"sk-label-container\"><div class=\"sk-label sk-toggleable\"><input class=\"sk-toggleable__control sk-hidden--visually\" id=\"sk-estimator-id-16\" type=\"checkbox\" ><label for=\"sk-estimator-id-16\" class=\"sk-toggleable__label sk-toggleable__label-arrow\">GridSearchCV</label><div class=\"sk-toggleable__content\"><pre>GridSearchCV(estimator=LogisticRegression(),\n",
       "             param_grid={&#x27;C&#x27;: [0.001, 0.01, 0.1, 1, 10, 100, 1000],\n",
       "                         &#x27;penalty&#x27;: [&#x27;l1&#x27;, &#x27;l2&#x27;]})</pre></div></div></div><div class=\"sk-parallel\"><div class=\"sk-parallel-item\"><div class=\"sk-item\"><div class=\"sk-label-container\"><div class=\"sk-label sk-toggleable\"><input class=\"sk-toggleable__control sk-hidden--visually\" id=\"sk-estimator-id-17\" type=\"checkbox\" ><label for=\"sk-estimator-id-17\" class=\"sk-toggleable__label sk-toggleable__label-arrow\">estimator: LogisticRegression</label><div class=\"sk-toggleable__content\"><pre>LogisticRegression()</pre></div></div></div><div class=\"sk-serial\"><div class=\"sk-item\"><div class=\"sk-estimator sk-toggleable\"><input class=\"sk-toggleable__control sk-hidden--visually\" id=\"sk-estimator-id-18\" type=\"checkbox\" ><label for=\"sk-estimator-id-18\" class=\"sk-toggleable__label sk-toggleable__label-arrow\">LogisticRegression</label><div class=\"sk-toggleable__content\"><pre>LogisticRegression()</pre></div></div></div></div></div></div></div></div></div></div>"
      ],
      "text/plain": [
       "GridSearchCV(estimator=LogisticRegression(),\n",
       "             param_grid={'C': [0.001, 0.01, 0.1, 1, 10, 100, 1000],\n",
       "                         'penalty': ['l1', 'l2']})"
      ]
     },
     "execution_count": 179,
     "metadata": {},
     "output_type": "execute_result"
    }
   ],
   "source": [
    "grid_log_reg.fit(X_train, y_train)"
   ]
  },
  {
   "cell_type": "code",
   "execution_count": 180,
   "id": "d85412d7",
   "metadata": {},
   "outputs": [],
   "source": [
    "# Best parameters\n",
    "log_reg=grid_log_reg.best_estimator_"
   ]
  },
  {
   "cell_type": "code",
   "execution_count": 181,
   "id": "32e40c99",
   "metadata": {},
   "outputs": [],
   "source": [
    "log_pred = log_reg.predict(X_test)"
   ]
  },
  {
   "cell_type": "code",
   "execution_count": 182,
   "id": "c6dc7f7c",
   "metadata": {},
   "outputs": [
    {
     "name": "stdout",
     "output_type": "stream",
     "text": [
      "Logistic Regression Cross Validation Score:  95.28%\n"
     ]
    }
   ],
   "source": [
    "log_reg_score = cross_val_score(log_reg, X_train, y_train, cv=5)\n",
    "print('Logistic Regression Cross Validation Score: ', round(log_reg_score.mean() * 100, 2).astype(str) + '%')"
   ]
  },
  {
   "cell_type": "code",
   "execution_count": 183,
   "id": "fa2e19a6",
   "metadata": {},
   "outputs": [
    {
     "name": "stdout",
     "output_type": "stream",
     "text": [
      "Model accuracy after tuning: 95.38494391337663 %\n"
     ]
    }
   ],
   "source": [
    "print('Model accuracy after tuning:',log_reg.score(X_test,y_test)*100,'%')"
   ]
  },
  {
   "cell_type": "code",
   "execution_count": null,
   "id": "42711efb",
   "metadata": {},
   "outputs": [],
   "source": []
  },
  {
   "cell_type": "code",
   "execution_count": null,
   "id": "10ab7555",
   "metadata": {},
   "outputs": [],
   "source": []
  },
  {
   "cell_type": "code",
   "execution_count": 184,
   "id": "c50d40aa",
   "metadata": {},
   "outputs": [],
   "source": [
    "knn_params = {\"n_neighbors\": list(range(2,5,1)), 'algorithm': ['auto', 'ball_tree', 'kd_tree', 'brute']}"
   ]
  },
  {
   "cell_type": "code",
   "execution_count": 185,
   "id": "c6f30b37",
   "metadata": {},
   "outputs": [],
   "source": [
    "grid_knears = GridSearchCV(KNeighborsClassifier(), knn_params)"
   ]
  },
  {
   "cell_type": "code",
   "execution_count": 186,
   "id": "b353ea57",
   "metadata": {},
   "outputs": [
    {
     "data": {
      "text/html": [
       "<style>#sk-container-id-7 {color: black;background-color: white;}#sk-container-id-7 pre{padding: 0;}#sk-container-id-7 div.sk-toggleable {background-color: white;}#sk-container-id-7 label.sk-toggleable__label {cursor: pointer;display: block;width: 100%;margin-bottom: 0;padding: 0.3em;box-sizing: border-box;text-align: center;}#sk-container-id-7 label.sk-toggleable__label-arrow:before {content: \"▸\";float: left;margin-right: 0.25em;color: #696969;}#sk-container-id-7 label.sk-toggleable__label-arrow:hover:before {color: black;}#sk-container-id-7 div.sk-estimator:hover label.sk-toggleable__label-arrow:before {color: black;}#sk-container-id-7 div.sk-toggleable__content {max-height: 0;max-width: 0;overflow: hidden;text-align: left;background-color: #f0f8ff;}#sk-container-id-7 div.sk-toggleable__content pre {margin: 0.2em;color: black;border-radius: 0.25em;background-color: #f0f8ff;}#sk-container-id-7 input.sk-toggleable__control:checked~div.sk-toggleable__content {max-height: 200px;max-width: 100%;overflow: auto;}#sk-container-id-7 input.sk-toggleable__control:checked~label.sk-toggleable__label-arrow:before {content: \"▾\";}#sk-container-id-7 div.sk-estimator input.sk-toggleable__control:checked~label.sk-toggleable__label {background-color: #d4ebff;}#sk-container-id-7 div.sk-label input.sk-toggleable__control:checked~label.sk-toggleable__label {background-color: #d4ebff;}#sk-container-id-7 input.sk-hidden--visually {border: 0;clip: rect(1px 1px 1px 1px);clip: rect(1px, 1px, 1px, 1px);height: 1px;margin: -1px;overflow: hidden;padding: 0;position: absolute;width: 1px;}#sk-container-id-7 div.sk-estimator {font-family: monospace;background-color: #f0f8ff;border: 1px dotted black;border-radius: 0.25em;box-sizing: border-box;margin-bottom: 0.5em;}#sk-container-id-7 div.sk-estimator:hover {background-color: #d4ebff;}#sk-container-id-7 div.sk-parallel-item::after {content: \"\";width: 100%;border-bottom: 1px solid gray;flex-grow: 1;}#sk-container-id-7 div.sk-label:hover label.sk-toggleable__label {background-color: #d4ebff;}#sk-container-id-7 div.sk-serial::before {content: \"\";position: absolute;border-left: 1px solid gray;box-sizing: border-box;top: 0;bottom: 0;left: 50%;z-index: 0;}#sk-container-id-7 div.sk-serial {display: flex;flex-direction: column;align-items: center;background-color: white;padding-right: 0.2em;padding-left: 0.2em;position: relative;}#sk-container-id-7 div.sk-item {position: relative;z-index: 1;}#sk-container-id-7 div.sk-parallel {display: flex;align-items: stretch;justify-content: center;background-color: white;position: relative;}#sk-container-id-7 div.sk-item::before, #sk-container-id-7 div.sk-parallel-item::before {content: \"\";position: absolute;border-left: 1px solid gray;box-sizing: border-box;top: 0;bottom: 0;left: 50%;z-index: -1;}#sk-container-id-7 div.sk-parallel-item {display: flex;flex-direction: column;z-index: 1;position: relative;background-color: white;}#sk-container-id-7 div.sk-parallel-item:first-child::after {align-self: flex-end;width: 50%;}#sk-container-id-7 div.sk-parallel-item:last-child::after {align-self: flex-start;width: 50%;}#sk-container-id-7 div.sk-parallel-item:only-child::after {width: 0;}#sk-container-id-7 div.sk-dashed-wrapped {border: 1px dashed gray;margin: 0 0.4em 0.5em 0.4em;box-sizing: border-box;padding-bottom: 0.4em;background-color: white;}#sk-container-id-7 div.sk-label label {font-family: monospace;font-weight: bold;display: inline-block;line-height: 1.2em;}#sk-container-id-7 div.sk-label-container {text-align: center;}#sk-container-id-7 div.sk-container {/* jupyter's `normalize.less` sets `[hidden] { display: none; }` but bootstrap.min.css set `[hidden] { display: none !important; }` so we also need the `!important` here to be able to override the default hidden behavior on the sphinx rendered scikit-learn.org. See: https://github.com/scikit-learn/scikit-learn/issues/21755 */display: inline-block !important;position: relative;}#sk-container-id-7 div.sk-text-repr-fallback {display: none;}</style><div id=\"sk-container-id-7\" class=\"sk-top-container\"><div class=\"sk-text-repr-fallback\"><pre>GridSearchCV(estimator=KNeighborsClassifier(),\n",
       "             param_grid={&#x27;algorithm&#x27;: [&#x27;auto&#x27;, &#x27;ball_tree&#x27;, &#x27;kd_tree&#x27;, &#x27;brute&#x27;],\n",
       "                         &#x27;n_neighbors&#x27;: [2, 3, 4]})</pre><b>In a Jupyter environment, please rerun this cell to show the HTML representation or trust the notebook. <br />On GitHub, the HTML representation is unable to render, please try loading this page with nbviewer.org.</b></div><div class=\"sk-container\" hidden><div class=\"sk-item sk-dashed-wrapped\"><div class=\"sk-label-container\"><div class=\"sk-label sk-toggleable\"><input class=\"sk-toggleable__control sk-hidden--visually\" id=\"sk-estimator-id-19\" type=\"checkbox\" ><label for=\"sk-estimator-id-19\" class=\"sk-toggleable__label sk-toggleable__label-arrow\">GridSearchCV</label><div class=\"sk-toggleable__content\"><pre>GridSearchCV(estimator=KNeighborsClassifier(),\n",
       "             param_grid={&#x27;algorithm&#x27;: [&#x27;auto&#x27;, &#x27;ball_tree&#x27;, &#x27;kd_tree&#x27;, &#x27;brute&#x27;],\n",
       "                         &#x27;n_neighbors&#x27;: [2, 3, 4]})</pre></div></div></div><div class=\"sk-parallel\"><div class=\"sk-parallel-item\"><div class=\"sk-item\"><div class=\"sk-label-container\"><div class=\"sk-label sk-toggleable\"><input class=\"sk-toggleable__control sk-hidden--visually\" id=\"sk-estimator-id-20\" type=\"checkbox\" ><label for=\"sk-estimator-id-20\" class=\"sk-toggleable__label sk-toggleable__label-arrow\">estimator: KNeighborsClassifier</label><div class=\"sk-toggleable__content\"><pre>KNeighborsClassifier()</pre></div></div></div><div class=\"sk-serial\"><div class=\"sk-item\"><div class=\"sk-estimator sk-toggleable\"><input class=\"sk-toggleable__control sk-hidden--visually\" id=\"sk-estimator-id-21\" type=\"checkbox\" ><label for=\"sk-estimator-id-21\" class=\"sk-toggleable__label sk-toggleable__label-arrow\">KNeighborsClassifier</label><div class=\"sk-toggleable__content\"><pre>KNeighborsClassifier()</pre></div></div></div></div></div></div></div></div></div></div>"
      ],
      "text/plain": [
       "GridSearchCV(estimator=KNeighborsClassifier(),\n",
       "             param_grid={'algorithm': ['auto', 'ball_tree', 'kd_tree', 'brute'],\n",
       "                         'n_neighbors': [2, 3, 4]})"
      ]
     },
     "execution_count": 186,
     "metadata": {},
     "output_type": "execute_result"
    }
   ],
   "source": [
    "grid_knears.fit(X_train, y_train)"
   ]
  },
  {
   "cell_type": "code",
   "execution_count": 187,
   "id": "0625030b",
   "metadata": {},
   "outputs": [],
   "source": [
    "# Best parameters\n",
    "KNN=grid_knears.best_estimator_"
   ]
  },
  {
   "cell_type": "code",
   "execution_count": 188,
   "id": "68464217",
   "metadata": {},
   "outputs": [],
   "source": [
    "KNN_pred = KNN.predict(X_test)"
   ]
  },
  {
   "cell_type": "code",
   "execution_count": 189,
   "id": "f6f3e8ea",
   "metadata": {},
   "outputs": [
    {
     "name": "stdout",
     "output_type": "stream",
     "text": [
      "Knears Neighbors Cross Validation Score 99.96%\n"
     ]
    }
   ],
   "source": [
    "knears_score = cross_val_score(KNN, X_train, y_train, cv=5)\n",
    "print('Knears Neighbors Cross Validation Score', round(knears_score.mean() * 100, 2).astype(str) + '%')"
   ]
  },
  {
   "cell_type": "code",
   "execution_count": 190,
   "id": "2ec61bdd",
   "metadata": {},
   "outputs": [
    {
     "name": "stdout",
     "output_type": "stream",
     "text": [
      "Model accuracy after tuning: 99.95729126103832 %\n"
     ]
    }
   ],
   "source": [
    "print('Model accuracy after tuning:',KNN.score(X_test,y_test)*100,'%')"
   ]
  },
  {
   "cell_type": "code",
   "execution_count": 191,
   "id": "7d534432",
   "metadata": {},
   "outputs": [
    {
     "data": {
      "text/plain": [
       "<sklearn.metrics._plot.confusion_matrix.ConfusionMatrixDisplay at 0x21524069160>"
      ]
     },
     "execution_count": 191,
     "metadata": {},
     "output_type": "execute_result"
    },
    {
     "data": {
      "image/png": "[encoded data removed]",
      "text/plain": [
       "<Figure size 432x288 with 2 Axes>"
      ]
     },
     "metadata": {
      "needs_background": "light"
     },
     "output_type": "display_data"
    }
   ],
   "source": [
    "#confusion matrix\n",
    "plot_confusion_matrix(KNN,X_test,y_test)"
   ]
  },
  {
   "cell_type": "code",
   "execution_count": 193,
   "id": "ca51d969",
   "metadata": {},
   "outputs": [
    {
     "name": "stdout",
     "output_type": "stream",
     "text": [
      "              precision    recall  f1-score   support\n",
      "\n",
      "           0       1.00      1.00      1.00     39721\n",
      "           1       1.00      1.00      1.00     39888\n",
      "\n",
      "    accuracy                           1.00     79609\n",
      "   macro avg       1.00      1.00      1.00     79609\n",
      "weighted avg       1.00      1.00      1.00     79609\n",
      "\n"
     ]
    }
   ],
   "source": [
    "print(classification_report(y_test,KNN_pred))"
   ]
  },
  {
   "cell_type": "code",
   "execution_count": null,
   "id": "5d1b8499",
   "metadata": {},
   "outputs": [],
   "source": []
  }
 ],
 "metadata": {
  "kernelspec": {
   "display_name": "Python 3 (ipykernel)",
   "language": "python",
   "name": "python3"
  },
  "language_info": {
   "codemirror_mode": {
    "name": "ipython",
    "version": 3
   },
   "file_extension": ".py",
   "mimetype": "text/x-python",
   "name": "python",
   "nbconvert_exporter": "python",
   "pygments_lexer": "ipython3",
   "version": "3.10.6"
  }
 },
 "nbformat": 4,
 "nbformat_minor": 5
}
